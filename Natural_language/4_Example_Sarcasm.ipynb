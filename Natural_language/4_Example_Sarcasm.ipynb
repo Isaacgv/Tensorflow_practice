{
 "cells": [
  {
   "cell_type": "code",
   "execution_count": 1,
   "metadata": {},
   "outputs": [],
   "source": [
    "import json\n",
    "import tensorflow as tf\n",
    "\n",
    "from tensorflow.keras.preprocessing.text import Tokenizer\n",
    "from tensorflow.keras.preprocessing.sequence import pad_sequences"
   ]
  },
  {
   "cell_type": "code",
   "execution_count": 2,
   "metadata": {},
   "outputs": [],
   "source": [
    "vocab_size = 10000\n",
    "embedding_dim = 16\n",
    "max_length = 100\n",
    "trunc_type='post'\n",
    "padding_type='post'\n",
    "oov_tok = \"<OOV>\"\n",
    "training_size = 20000"
   ]
  },
  {
   "cell_type": "code",
   "execution_count": 5,
   "metadata": {},
   "outputs": [
    {
     "name": "stdout",
     "output_type": "stream",
     "text": [
      "--2020-07-21 09:01:00--  https://storage.googleapis.com/laurencemoroney-blog.appspot.com/sarcasm.json\n",
      "Resolving storage.googleapis.com (storage.googleapis.com)... 172.217.28.16, 172.217.30.48, 172.217.162.144, ...\n",
      "Connecting to storage.googleapis.com (storage.googleapis.com)|172.217.28.16|:443... connected.\n",
      "HTTP request sent, awaiting response... 200 OK\n",
      "Length: 5643545 (5,4M) [application/json]\n",
      "Saving to: ‘data/sarcasm.json’\n",
      "\n",
      "data/sarcasm.json   100%[===================>]   5,38M  1,16MB/s    in 5,6s    \n",
      "\n",
      "2020-07-21 09:01:06 (977 KB/s) - ‘data/sarcasm.json’ saved [5643545/5643545]\n",
      "\n"
     ]
    }
   ],
   "source": [
    "!wget --no-check-certificate \\\n",
    "    https://storage.googleapis.com/laurencemoroney-blog.appspot.com/sarcasm.json \\\n",
    "    -O data/sarcasm.json"
   ]
  },
  {
   "cell_type": "code",
   "execution_count": 6,
   "metadata": {},
   "outputs": [],
   "source": [
    "with open(\"data/sarcasm.json\", 'r') as f:\n",
    "    datastore = json.load(f)"
   ]
  },
  {
   "cell_type": "code",
   "execution_count": 7,
   "metadata": {},
   "outputs": [],
   "source": [
    "sentences = []\n",
    "labels = []\n",
    "\n",
    "for item in datastore:\n",
    "    sentences.append(item['headline'])\n",
    "    labels.append(item['is_sarcastic'])"
   ]
  },
  {
   "cell_type": "code",
   "execution_count": 8,
   "metadata": {},
   "outputs": [],
   "source": [
    "training_sentences = sentences[0:training_size]\n",
    "testing_sentences = sentences[training_size:]\n",
    "training_labels = labels[0:training_size]\n",
    "testing_labels = labels[training_size:]"
   ]
  },
  {
   "cell_type": "code",
   "execution_count": 9,
   "metadata": {},
   "outputs": [],
   "source": [
    "tokenizer = Tokenizer(num_words=vocab_size, oov_token=oov_tok)\n",
    "tokenizer.fit_on_texts(training_sentences)\n",
    "\n",
    "word_index = tokenizer.word_index\n",
    "\n",
    "training_sequences = tokenizer.texts_to_sequences(training_sentences)\n",
    "training_padded = pad_sequences(training_sequences, maxlen=max_length, padding=padding_type, truncating=trunc_type)\n",
    "\n",
    "testing_sequences = tokenizer.texts_to_sequences(testing_sentences)\n",
    "testing_padded = pad_sequences(testing_sequences, maxlen=max_length, padding=padding_type, truncating=trunc_type)"
   ]
  },
  {
   "cell_type": "code",
   "execution_count": 10,
   "metadata": {},
   "outputs": [],
   "source": [
    "# Need this block to get it to work with TensorFlow 2.x\n",
    "import numpy as np\n",
    "training_padded = np.array(training_padded)\n",
    "training_labels = np.array(training_labels)\n",
    "testing_padded = np.array(testing_padded)\n",
    "testing_labels = np.array(testing_labels)"
   ]
  },
  {
   "cell_type": "code",
   "execution_count": 11,
   "metadata": {},
   "outputs": [],
   "source": [
    "model = tf.keras.Sequential([\n",
    "    tf.keras.layers.Embedding(vocab_size, embedding_dim, input_length=max_length),\n",
    "    tf.keras.layers.GlobalAveragePooling1D(),\n",
    "    tf.keras.layers.Dense(24, activation='relu'),\n",
    "    tf.keras.layers.Dense(1, activation='sigmoid')\n",
    "])\n",
    "model.compile(loss='binary_crossentropy',optimizer='adam',metrics=['accuracy'])"
   ]
  },
  {
   "cell_type": "code",
   "execution_count": 12,
   "metadata": {},
   "outputs": [
    {
     "name": "stdout",
     "output_type": "stream",
     "text": [
      "Model: \"sequential\"\n",
      "_________________________________________________________________\n",
      "Layer (type)                 Output Shape              Param #   \n",
      "=================================================================\n",
      "embedding (Embedding)        (None, 100, 16)           160000    \n",
      "_________________________________________________________________\n",
      "global_average_pooling1d (Gl (None, 16)                0         \n",
      "_________________________________________________________________\n",
      "dense (Dense)                (None, 24)                408       \n",
      "_________________________________________________________________\n",
      "dense_1 (Dense)              (None, 1)                 25        \n",
      "=================================================================\n",
      "Total params: 160,433\n",
      "Trainable params: 160,433\n",
      "Non-trainable params: 0\n",
      "_________________________________________________________________\n"
     ]
    }
   ],
   "source": [
    "model.summary()"
   ]
  },
  {
   "cell_type": "code",
   "execution_count": 13,
   "metadata": {},
   "outputs": [
    {
     "name": "stdout",
     "output_type": "stream",
     "text": [
      "Epoch 1/30\n",
      "625/625 - 1s - loss: 0.6646 - accuracy: 0.5920 - val_loss: 0.5848 - val_accuracy: 0.7453\n",
      "Epoch 2/30\n",
      "625/625 - 1s - loss: 0.4410 - accuracy: 0.8300 - val_loss: 0.3897 - val_accuracy: 0.8401\n",
      "Epoch 3/30\n",
      "625/625 - 1s - loss: 0.3202 - accuracy: 0.8719 - val_loss: 0.3565 - val_accuracy: 0.8509\n",
      "Epoch 4/30\n",
      "625/625 - 1s - loss: 0.2680 - accuracy: 0.8967 - val_loss: 0.3452 - val_accuracy: 0.8553\n",
      "Epoch 5/30\n",
      "625/625 - 1s - loss: 0.2325 - accuracy: 0.9102 - val_loss: 0.3440 - val_accuracy: 0.8523\n",
      "Epoch 6/30\n",
      "625/625 - 1s - loss: 0.2050 - accuracy: 0.9217 - val_loss: 0.3462 - val_accuracy: 0.8541\n",
      "Epoch 7/30\n",
      "625/625 - 1s - loss: 0.1843 - accuracy: 0.9309 - val_loss: 0.3535 - val_accuracy: 0.8530\n",
      "Epoch 8/30\n",
      "625/625 - 1s - loss: 0.1670 - accuracy: 0.9383 - val_loss: 0.3656 - val_accuracy: 0.8554\n",
      "Epoch 9/30\n",
      "625/625 - 1s - loss: 0.1493 - accuracy: 0.9459 - val_loss: 0.4166 - val_accuracy: 0.8366\n",
      "Epoch 10/30\n",
      "625/625 - 1s - loss: 0.1367 - accuracy: 0.9510 - val_loss: 0.4026 - val_accuracy: 0.8478\n",
      "Epoch 11/30\n",
      "625/625 - 1s - loss: 0.1245 - accuracy: 0.9571 - val_loss: 0.4123 - val_accuracy: 0.8504\n",
      "Epoch 12/30\n",
      "625/625 - 1s - loss: 0.1140 - accuracy: 0.9603 - val_loss: 0.4375 - val_accuracy: 0.8469\n",
      "Epoch 13/30\n",
      "625/625 - 1s - loss: 0.1045 - accuracy: 0.9646 - val_loss: 0.4534 - val_accuracy: 0.8465\n",
      "Epoch 14/30\n",
      "625/625 - 1s - loss: 0.0966 - accuracy: 0.9679 - val_loss: 0.4886 - val_accuracy: 0.8396\n",
      "Epoch 15/30\n",
      "625/625 - 1s - loss: 0.0895 - accuracy: 0.9705 - val_loss: 0.5009 - val_accuracy: 0.8432\n",
      "Epoch 16/30\n",
      "625/625 - 1s - loss: 0.0814 - accuracy: 0.9743 - val_loss: 0.5295 - val_accuracy: 0.8384\n",
      "Epoch 17/30\n",
      "625/625 - 1s - loss: 0.0755 - accuracy: 0.9761 - val_loss: 0.5583 - val_accuracy: 0.8371\n",
      "Epoch 18/30\n",
      "625/625 - 1s - loss: 0.0721 - accuracy: 0.9758 - val_loss: 0.5822 - val_accuracy: 0.8332\n",
      "Epoch 19/30\n",
      "625/625 - 1s - loss: 0.0650 - accuracy: 0.9798 - val_loss: 0.6191 - val_accuracy: 0.8325\n",
      "Epoch 20/30\n",
      "625/625 - 1s - loss: 0.0599 - accuracy: 0.9811 - val_loss: 0.6447 - val_accuracy: 0.8305\n",
      "Epoch 21/30\n",
      "625/625 - 1s - loss: 0.0553 - accuracy: 0.9830 - val_loss: 0.7063 - val_accuracy: 0.8264\n",
      "Epoch 22/30\n",
      "625/625 - 1s - loss: 0.0512 - accuracy: 0.9839 - val_loss: 0.7281 - val_accuracy: 0.8237\n",
      "Epoch 23/30\n",
      "625/625 - 1s - loss: 0.0472 - accuracy: 0.9861 - val_loss: 0.7474 - val_accuracy: 0.8207\n",
      "Epoch 24/30\n",
      "625/625 - 1s - loss: 0.0444 - accuracy: 0.9872 - val_loss: 0.7707 - val_accuracy: 0.8223\n",
      "Epoch 25/30\n",
      "625/625 - 1s - loss: 0.0411 - accuracy: 0.9880 - val_loss: 0.8056 - val_accuracy: 0.8201\n",
      "Epoch 26/30\n",
      "625/625 - 1s - loss: 0.0372 - accuracy: 0.9891 - val_loss: 0.8573 - val_accuracy: 0.8186\n",
      "Epoch 27/30\n",
      "625/625 - 1s - loss: 0.0348 - accuracy: 0.9897 - val_loss: 0.8735 - val_accuracy: 0.8196\n",
      "Epoch 28/30\n",
      "625/625 - 1s - loss: 0.0326 - accuracy: 0.9911 - val_loss: 0.9115 - val_accuracy: 0.8180\n",
      "Epoch 29/30\n",
      "625/625 - 1s - loss: 0.0316 - accuracy: 0.9910 - val_loss: 1.0018 - val_accuracy: 0.8153\n",
      "Epoch 30/30\n",
      "625/625 - 1s - loss: 0.0283 - accuracy: 0.9923 - val_loss: 0.9820 - val_accuracy: 0.8158\n"
     ]
    }
   ],
   "source": [
    "num_epochs = 30\n",
    "history = model.fit(training_padded, training_labels, epochs=num_epochs, validation_data=(testing_padded, testing_labels), verbose=2)"
   ]
  },
  {
   "cell_type": "code",
   "execution_count": 14,
   "metadata": {},
   "outputs": [
    {
     "data": {
      "image/png": "[encoded data removed]",
      "text/plain": [
       "<Figure size 432x288 with 1 Axes>"
      ]
     },
     "metadata": {
      "needs_background": "light"
     },
     "output_type": "display_data"
    },
    {
     "data": {
      "image/png": "[encoded data removed]",
      "text/plain": [
       "<Figure size 432x288 with 1 Axes>"
      ]
     },
     "metadata": {
      "needs_background": "light"
     },
     "output_type": "display_data"
    }
   ],
   "source": [
    "import matplotlib.pyplot as plt\n",
    "\n",
    "\n",
    "def plot_graphs(history, string):\n",
    "    plt.plot(history.history[string])\n",
    "    plt.plot(history.history['val_'+string])\n",
    "    plt.xlabel(\"Epochs\")\n",
    "    plt.ylabel(string)\n",
    "    plt.legend([string, 'val_'+string])\n",
    "    plt.show()\n",
    "\n",
    "plot_graphs(history, \"accuracy\")\n",
    "plot_graphs(history, \"loss\")"
   ]
  },
  {
   "cell_type": "code",
   "execution_count": 18,
   "metadata": {},
   "outputs": [
    {
     "name": "stdout",
     "output_type": "stream",
     "text": [
      "former <OOV> store clerk sues over secret 'black <OOV> for minority shoppers ? ? ? ? ? ? ? ? ? ? ? ? ? ? ? ? ? ? ? ? ? ? ? ? ? ? ? ? ? ? ? ? ? ? ? ? ? ? ? ? ? ? ? ? ? ? ? ? ? ? ? ? ? ? ? ? ? ? ? ? ? ? ? ? ? ? ? ? ? ? ? ? ? ? ? ? ? ? ? ? ? ? ? ? ? ? ? ?\n",
      "------------------------------------------------\n",
      "former versace store clerk sues over secret 'black code' for minority shoppers\n",
      "------------------------------------------------\n",
      "1\n"
     ]
    }
   ],
   "source": [
    "reverse_word_index = dict([(value, key) for (key, value) in word_index.items()])\n",
    "\n",
    "def decode_sentence(text):\n",
    "    return ' '.join([reverse_word_index.get(i, '?') for i in text])\n",
    "\n",
    "print(decode_sentence(training_padded[0]))\n",
    "print(\"------------------------------------------------\")\n",
    "print(training_sentences[0])\n",
    "print(\"------------------------------------------------\")\n",
    "print(labels[2])"
   ]
  },
  {
   "cell_type": "code",
   "execution_count": 19,
   "metadata": {},
   "outputs": [
    {
     "name": "stdout",
     "output_type": "stream",
     "text": [
      "(10000, 16)\n"
     ]
    }
   ],
   "source": [
    "e = model.layers[0]\n",
    "weights = e.get_weights()[0]\n",
    "print(weights.shape) # shape: (vocab_size, embedding_dim)"
   ]
  },
  {
   "cell_type": "code",
   "execution_count": null,
   "metadata": {},
   "outputs": [],
   "source": [
    "import io\n",
    "\n",
    "out_v = io.open('vecs.tsv', 'w', encoding='utf-8')\n",
    "out_m = io.open('meta.tsv', 'w', encoding='utf-8')\n",
    "for word_num in range(1, vocab_size):\n",
    "    word = reverse_word_index[word_num]\n",
    "    embeddings = weights[word_num]\n",
    "    out_m.write(word + \"\\n\")\n",
    "    out_v.write('\\t'.join([str(x) for x in embeddings]) + \"\\n\")\n",
    "out_v.close()\n",
    "out_m.close()"
   ]
  }
 ],
 "metadata": {
  "kernelspec": {
   "display_name": "Python 3",
   "language": "python",
   "name": "python3"
  },
  "language_info": {
   "codemirror_mode": {
    "name": "ipython",
    "version": 3
   },
   "file_extension": ".py",
   "mimetype": "text/x-python",
   "name": "python",
   "nbconvert_exporter": "python",
   "pygments_lexer": "ipython3",
   "version": "3.6.9"
  }
 },
 "nbformat": 4,
 "nbformat_minor": 4
}
