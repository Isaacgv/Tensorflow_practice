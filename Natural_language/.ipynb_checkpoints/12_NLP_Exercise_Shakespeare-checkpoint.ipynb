{
 "cells": [
  {
   "cell_type": "code",
   "execution_count": null,
   "metadata": {
    "colab": {},
    "colab_type": "code",
    "id": "zX4Kg8DUTKWO"
   },
   "outputs": [],
   "source": [
    "#@title Licensed under the Apache License, Version 2.0 (the \"License\");\n",
    "# you may not use this file except in compliance with the License.\n",
    "# You may obtain a copy of the License at\n",
    "#\n",
    "# https://www.apache.org/licenses/LICENSE-2.0\n",
    "#\n",
    "# Unless required by applicable law or agreed to in writing, software\n",
    "# distributed under the License is distributed on an \"AS IS\" BASIS,\n",
    "# WITHOUT WARRANTIES OR CONDITIONS OF ANY KIND, either express or implied.\n",
    "# See the License for the specific language governing permissions and\n",
    "# limitations under the License."
   ]
  },
  {
   "cell_type": "code",
   "execution_count": 1,
   "metadata": {
    "colab": {},
    "colab_type": "code",
    "id": "BOwsuGQQY9OL"
   },
   "outputs": [],
   "source": [
    "from tensorflow.keras.preprocessing.sequence import pad_sequences\n",
    "from tensorflow.keras.layers import Embedding, LSTM, Dense, Dropout, Bidirectional\n",
    "from tensorflow.keras.preprocessing.text import Tokenizer\n",
    "from tensorflow.keras.models import Sequential\n",
    "from tensorflow.keras.optimizers import Adam\n",
    "from tensorflow.keras import regularizers\n",
    "import tensorflow.keras.utils as ku \n",
    "import numpy as np "
   ]
  },
  {
   "cell_type": "code",
   "execution_count": 2,
   "metadata": {
    "colab": {
     "base_uri": "https://localhost:8080/",
     "height": 208
    },
    "colab_type": "code",
    "id": "PRnDnCW-Z7qv",
    "outputId": "7f02e635-84a8-4ead-941f-5664a0cd88a5"
   },
   "outputs": [
    {
     "name": "stdout",
     "output_type": "stream",
     "text": [
      "--2020-07-26 16:06:17--  https://storage.googleapis.com/laurencemoroney-blog.appspot.com/sonnets.txt\n",
      "Resolving storage.googleapis.com (storage.googleapis.com)... 172.217.194.128, 74.125.24.128, 2404:6800:4003:c03::80, ...\n",
      "Connecting to storage.googleapis.com (storage.googleapis.com)|172.217.194.128|:443... connected.\n",
      "HTTP request sent, awaiting response... 200 OK\n",
      "Length: 93578 (91K) [text/plain]\n",
      "Saving to: ‘/tmp/sonnets.txt’\n",
      "\n",
      "\r",
      "/tmp/sonnets.txt      0%[                    ]       0  --.-KB/s               \r",
      "/tmp/sonnets.txt    100%[===================>]  91.38K  --.-KB/s    in 0.001s  \n",
      "\n",
      "2020-07-26 16:06:17 (80.7 MB/s) - ‘/tmp/sonnets.txt’ saved [93578/93578]\n",
      "\n"
     ]
    }
   ],
   "source": [
    "tokenizer = Tokenizer()\n",
    "!wget --no-check-certificate \\\n",
    "    https://storage.googleapis.com/laurencemoroney-blog.appspot.com/sonnets.txt \\\n",
    "    -O /tmp/sonnets.txt\n",
    "data = open('/tmp/sonnets.txt').read()\n",
    "\n",
    "corpus = data.lower().split(\"\\n\")\n",
    "\n",
    "\n",
    "tokenizer.fit_on_texts(corpus)\n",
    "total_words = len(tokenizer.word_index) + 1\n",
    "\n",
    "# create input sequences using list of tokens\n",
    "input_sequences = []\n",
    "for line in corpus:\n",
    "\ttoken_list = tokenizer.texts_to_sequences([line])[0]\n",
    "\tfor i in range(1, len(token_list)):\n",
    "\t\tn_gram_sequence = token_list[:i+1]\n",
    "\t\tinput_sequences.append(n_gram_sequence)\n",
    "\n",
    "\n",
    "# pad sequences \n",
    "max_sequence_len = max([len(x) for x in input_sequences])\n",
    "input_sequences = np.array(pad_sequences(input_sequences, maxlen=max_sequence_len, padding='pre'))\n",
    "\n",
    "# create predictors and label\n",
    "predictors, label = input_sequences[:,:-1],input_sequences[:,-1]\n",
    "\n",
    "label = ku.to_categorical(label, num_classes=total_words)"
   ]
  },
  {
   "cell_type": "code",
   "execution_count": 3,
   "metadata": {
    "colab": {
     "base_uri": "https://localhost:8080/",
     "height": 382
    },
    "colab_type": "code",
    "id": "w9vH8Y59ajYL",
    "outputId": "dd1cf7ba-e9c8-4eb5-ce58-a11280e4ca0a"
   },
   "outputs": [
    {
     "name": "stdout",
     "output_type": "stream",
     "text": [
      "Model: \"sequential\"\n",
      "_________________________________________________________________\n",
      "Layer (type)                 Output Shape              Param #   \n",
      "=================================================================\n",
      "embedding (Embedding)        (None, 10, 100)           321100    \n",
      "_________________________________________________________________\n",
      "bidirectional (Bidirectional (None, 10, 300)           301200    \n",
      "_________________________________________________________________\n",
      "dropout (Dropout)            (None, 10, 300)           0         \n",
      "_________________________________________________________________\n",
      "lstm_1 (LSTM)                (None, 100)               160400    \n",
      "_________________________________________________________________\n",
      "dense (Dense)                (None, 1605)              162105    \n",
      "_________________________________________________________________\n",
      "dense_1 (Dense)              (None, 3211)              5156866   \n",
      "=================================================================\n",
      "Total params: 6,101,671\n",
      "Trainable params: 6,101,671\n",
      "Non-trainable params: 0\n",
      "_________________________________________________________________\n",
      "None\n"
     ]
    }
   ],
   "source": [
    "model = Sequential()\n",
    "model.add(Embedding(total_words, 100, input_length=max_sequence_len-1))\n",
    "model.add(Bidirectional(LSTM(150, return_sequences = True)))\n",
    "model.add(Dropout(0.2))\n",
    "model.add(LSTM(100))\n",
    "model.add(Dense(total_words/2, activation='relu', kernel_regularizer=regularizers.l2(0.01)))\n",
    "model.add(Dense(total_words, activation='softmax'))\n",
    "model.compile(loss='categorical_crossentropy', optimizer='adam', metrics=['accuracy'])\n",
    "print(model.summary())\n"
   ]
  },
  {
   "cell_type": "code",
   "execution_count": 4,
   "metadata": {
    "colab": {
     "base_uri": "https://localhost:8080/",
     "height": 1000
    },
    "colab_type": "code",
    "id": "AIg2f1HBxqof",
    "outputId": "723cb543-f46c-4fcf-86ab-c387d2adecb9"
   },
   "outputs": [
    {
     "name": "stdout",
     "output_type": "stream",
     "text": [
      "Epoch 1/100\n",
      "484/484 [==============================] - 5s 11ms/step - loss: 6.9070 - accuracy: 0.0208\n",
      "Epoch 2/100\n",
      "484/484 [==============================] - 5s 11ms/step - loss: 6.4998 - accuracy: 0.0222\n",
      "Epoch 3/100\n",
      "484/484 [==============================] - 5s 11ms/step - loss: 6.3946 - accuracy: 0.0255\n",
      "Epoch 4/100\n",
      "484/484 [==============================] - 5s 10ms/step - loss: 6.2621 - accuracy: 0.0305\n",
      "Epoch 5/100\n",
      "484/484 [==============================] - 5s 10ms/step - loss: 6.1626 - accuracy: 0.0362\n",
      "Epoch 6/100\n",
      "484/484 [==============================] - 5s 10ms/step - loss: 6.0737 - accuracy: 0.0409\n",
      "Epoch 7/100\n",
      "484/484 [==============================] - 5s 11ms/step - loss: 5.9944 - accuracy: 0.0443\n",
      "Epoch 8/100\n",
      "484/484 [==============================] - 5s 11ms/step - loss: 5.8934 - accuracy: 0.0494\n",
      "Epoch 9/100\n",
      "484/484 [==============================] - 5s 11ms/step - loss: 5.7854 - accuracy: 0.0541\n",
      "Epoch 10/100\n",
      "484/484 [==============================] - 5s 11ms/step - loss: 5.6691 - accuracy: 0.0604\n",
      "Epoch 11/100\n",
      "484/484 [==============================] - 5s 11ms/step - loss: 5.5494 - accuracy: 0.0661\n",
      "Epoch 12/100\n",
      "484/484 [==============================] - 5s 10ms/step - loss: 5.4344 - accuracy: 0.0755\n",
      "Epoch 13/100\n",
      "484/484 [==============================] - 5s 10ms/step - loss: 5.3256 - accuracy: 0.0783\n",
      "Epoch 14/100\n",
      "484/484 [==============================] - 5s 10ms/step - loss: 5.2176 - accuracy: 0.0893\n",
      "Epoch 15/100\n",
      "484/484 [==============================] - 5s 11ms/step - loss: 5.1142 - accuracy: 0.0927\n",
      "Epoch 16/100\n",
      "484/484 [==============================] - 5s 11ms/step - loss: 5.0136 - accuracy: 0.1023\n",
      "Epoch 17/100\n",
      "484/484 [==============================] - 5s 11ms/step - loss: 4.9123 - accuracy: 0.1114\n",
      "Epoch 18/100\n",
      "484/484 [==============================] - 5s 11ms/step - loss: 4.8151 - accuracy: 0.1191\n",
      "Epoch 19/100\n",
      "484/484 [==============================] - 5s 11ms/step - loss: 4.7121 - accuracy: 0.1289\n",
      "Epoch 20/100\n",
      "484/484 [==============================] - 5s 11ms/step - loss: 4.6182 - accuracy: 0.1372\n",
      "Epoch 21/100\n",
      "484/484 [==============================] - 5s 10ms/step - loss: 4.5164 - accuracy: 0.1454\n",
      "Epoch 22/100\n",
      "484/484 [==============================] - 5s 11ms/step - loss: 4.4071 - accuracy: 0.1568\n",
      "Epoch 23/100\n",
      "484/484 [==============================] - 5s 10ms/step - loss: 4.3058 - accuracy: 0.1654\n",
      "Epoch 24/100\n",
      "484/484 [==============================] - 5s 11ms/step - loss: 4.2049 - accuracy: 0.1818\n",
      "Epoch 25/100\n",
      "484/484 [==============================] - 5s 11ms/step - loss: 4.1042 - accuracy: 0.1945\n",
      "Epoch 26/100\n",
      "484/484 [==============================] - 5s 10ms/step - loss: 3.9991 - accuracy: 0.2104\n",
      "Epoch 27/100\n",
      "484/484 [==============================] - 5s 11ms/step - loss: 3.8977 - accuracy: 0.2250\n",
      "Epoch 28/100\n",
      "484/484 [==============================] - 5s 11ms/step - loss: 3.7989 - accuracy: 0.2454\n",
      "Epoch 29/100\n",
      "484/484 [==============================] - 5s 11ms/step - loss: 3.7119 - accuracy: 0.2562\n",
      "Epoch 30/100\n",
      "484/484 [==============================] - 5s 11ms/step - loss: 3.6133 - accuracy: 0.2756\n",
      "Epoch 31/100\n",
      "484/484 [==============================] - 5s 11ms/step - loss: 3.5170 - accuracy: 0.2976\n",
      "Epoch 32/100\n",
      "484/484 [==============================] - 5s 11ms/step - loss: 3.4265 - accuracy: 0.3194\n",
      "Epoch 33/100\n",
      "484/484 [==============================] - 5s 11ms/step - loss: 3.3350 - accuracy: 0.3399\n",
      "Epoch 34/100\n",
      "484/484 [==============================] - 5s 11ms/step - loss: 3.2515 - accuracy: 0.3568\n",
      "Epoch 35/100\n",
      "484/484 [==============================] - 5s 11ms/step - loss: 3.1723 - accuracy: 0.3733\n",
      "Epoch 36/100\n",
      "484/484 [==============================] - 5s 11ms/step - loss: 3.0962 - accuracy: 0.3916\n",
      "Epoch 37/100\n",
      "484/484 [==============================] - 5s 10ms/step - loss: 3.0116 - accuracy: 0.4120\n",
      "Epoch 38/100\n",
      "484/484 [==============================] - 5s 11ms/step - loss: 2.9398 - accuracy: 0.4286\n",
      "Epoch 39/100\n",
      "484/484 [==============================] - 5s 11ms/step - loss: 2.8720 - accuracy: 0.4458\n",
      "Epoch 40/100\n",
      "484/484 [==============================] - 5s 11ms/step - loss: 2.8140 - accuracy: 0.4562\n",
      "Epoch 41/100\n",
      "484/484 [==============================] - 5s 11ms/step - loss: 2.7318 - accuracy: 0.4741\n",
      "Epoch 42/100\n",
      "484/484 [==============================] - 5s 11ms/step - loss: 2.6714 - accuracy: 0.4910\n",
      "Epoch 43/100\n",
      "484/484 [==============================] - 5s 11ms/step - loss: 2.6075 - accuracy: 0.5042\n",
      "Epoch 44/100\n",
      "484/484 [==============================] - 5s 11ms/step - loss: 2.5408 - accuracy: 0.5200\n",
      "Epoch 45/100\n",
      "484/484 [==============================] - 5s 11ms/step - loss: 2.4905 - accuracy: 0.5280\n",
      "Epoch 46/100\n",
      "484/484 [==============================] - 5s 11ms/step - loss: 2.4284 - accuracy: 0.5475\n",
      "Epoch 47/100\n",
      "484/484 [==============================] - 5s 11ms/step - loss: 2.3855 - accuracy: 0.5590\n",
      "Epoch 48/100\n",
      "484/484 [==============================] - 5s 11ms/step - loss: 2.3420 - accuracy: 0.5629\n",
      "Epoch 49/100\n",
      "484/484 [==============================] - 5s 11ms/step - loss: 2.2880 - accuracy: 0.5753\n",
      "Epoch 50/100\n",
      "484/484 [==============================] - 5s 11ms/step - loss: 2.2406 - accuracy: 0.5855\n",
      "Epoch 51/100\n",
      "484/484 [==============================] - 5s 11ms/step - loss: 2.1910 - accuracy: 0.5982\n",
      "Epoch 52/100\n",
      "484/484 [==============================] - 5s 11ms/step - loss: 2.1393 - accuracy: 0.6090\n",
      "Epoch 53/100\n",
      "484/484 [==============================] - 5s 11ms/step - loss: 2.1004 - accuracy: 0.6169\n",
      "Epoch 54/100\n",
      "484/484 [==============================] - 5s 11ms/step - loss: 2.0562 - accuracy: 0.6322\n",
      "Epoch 55/100\n",
      "484/484 [==============================] - 5s 11ms/step - loss: 2.0149 - accuracy: 0.6360\n",
      "Epoch 56/100\n",
      "484/484 [==============================] - 5s 11ms/step - loss: 1.9966 - accuracy: 0.6387\n",
      "Epoch 57/100\n",
      "484/484 [==============================] - 5s 11ms/step - loss: 1.9470 - accuracy: 0.6540\n",
      "Epoch 58/100\n",
      "484/484 [==============================] - 5s 11ms/step - loss: 1.9148 - accuracy: 0.6577\n",
      "Epoch 59/100\n",
      "484/484 [==============================] - 6s 11ms/step - loss: 1.8735 - accuracy: 0.6671\n",
      "Epoch 60/100\n",
      "484/484 [==============================] - 6s 11ms/step - loss: 1.8411 - accuracy: 0.6698\n",
      "Epoch 61/100\n",
      "484/484 [==============================] - 5s 11ms/step - loss: 1.8088 - accuracy: 0.6790\n",
      "Epoch 62/100\n",
      "484/484 [==============================] - 5s 11ms/step - loss: 1.7694 - accuracy: 0.6871\n",
      "Epoch 63/100\n",
      "484/484 [==============================] - 5s 11ms/step - loss: 1.7367 - accuracy: 0.6967\n",
      "Epoch 64/100\n",
      "484/484 [==============================] - 5s 11ms/step - loss: 1.7178 - accuracy: 0.7018\n",
      "Epoch 65/100\n",
      "484/484 [==============================] - 5s 11ms/step - loss: 1.6889 - accuracy: 0.7035\n",
      "Epoch 66/100\n",
      "484/484 [==============================] - 5s 11ms/step - loss: 1.6722 - accuracy: 0.7075\n",
      "Epoch 67/100\n",
      "484/484 [==============================] - 5s 11ms/step - loss: 1.6448 - accuracy: 0.7137\n",
      "Epoch 68/100\n",
      "484/484 [==============================] - 5s 11ms/step - loss: 1.6110 - accuracy: 0.7190\n",
      "Epoch 69/100\n",
      "484/484 [==============================] - 5s 11ms/step - loss: 1.5870 - accuracy: 0.7222\n",
      "Epoch 70/100\n",
      "484/484 [==============================] - 5s 11ms/step - loss: 1.5695 - accuracy: 0.7250\n",
      "Epoch 71/100\n",
      "484/484 [==============================] - 5s 11ms/step - loss: 1.5424 - accuracy: 0.7341\n",
      "Epoch 72/100\n",
      "484/484 [==============================] - 5s 11ms/step - loss: 1.5199 - accuracy: 0.7385\n",
      "Epoch 73/100\n",
      "484/484 [==============================] - 5s 11ms/step - loss: 1.5008 - accuracy: 0.7401\n",
      "Epoch 74/100\n",
      "484/484 [==============================] - 5s 11ms/step - loss: 1.4764 - accuracy: 0.7476\n",
      "Epoch 75/100\n",
      "484/484 [==============================] - 5s 11ms/step - loss: 1.4596 - accuracy: 0.7484\n",
      "Epoch 76/100\n",
      "484/484 [==============================] - 5s 11ms/step - loss: 1.4428 - accuracy: 0.7528\n",
      "Epoch 77/100\n",
      "484/484 [==============================] - 5s 11ms/step - loss: 1.4234 - accuracy: 0.7538\n",
      "Epoch 78/100\n",
      "484/484 [==============================] - 5s 11ms/step - loss: 1.3928 - accuracy: 0.7621\n",
      "Epoch 79/100\n",
      "484/484 [==============================] - 5s 11ms/step - loss: 1.3810 - accuracy: 0.7633\n",
      "Epoch 80/100\n",
      "484/484 [==============================] - 5s 11ms/step - loss: 1.3725 - accuracy: 0.7619\n",
      "Epoch 81/100\n",
      "484/484 [==============================] - 5s 11ms/step - loss: 1.3588 - accuracy: 0.7657\n",
      "Epoch 82/100\n",
      "484/484 [==============================] - 5s 11ms/step - loss: 1.3342 - accuracy: 0.7727\n",
      "Epoch 83/100\n",
      "484/484 [==============================] - 5s 11ms/step - loss: 1.3259 - accuracy: 0.7714\n",
      "Epoch 84/100\n",
      "484/484 [==============================] - 5s 11ms/step - loss: 1.3073 - accuracy: 0.7759\n",
      "Epoch 85/100\n",
      "484/484 [==============================] - 5s 11ms/step - loss: 1.2939 - accuracy: 0.7784\n",
      "Epoch 86/100\n",
      "484/484 [==============================] - 5s 11ms/step - loss: 1.2680 - accuracy: 0.7824\n",
      "Epoch 87/100\n",
      "484/484 [==============================] - 5s 11ms/step - loss: 1.2640 - accuracy: 0.7816\n",
      "Epoch 88/100\n",
      "484/484 [==============================] - 5s 11ms/step - loss: 1.2501 - accuracy: 0.7854\n",
      "Epoch 89/100\n",
      "484/484 [==============================] - 5s 11ms/step - loss: 1.2405 - accuracy: 0.7870\n",
      "Epoch 90/100\n",
      "484/484 [==============================] - 5s 11ms/step - loss: 1.2245 - accuracy: 0.7898\n",
      "Epoch 91/100\n",
      "484/484 [==============================] - 5s 11ms/step - loss: 1.2180 - accuracy: 0.7905\n",
      "Epoch 92/100\n",
      "484/484 [==============================] - 5s 11ms/step - loss: 1.1989 - accuracy: 0.7937\n",
      "Epoch 93/100\n",
      "484/484 [==============================] - 5s 11ms/step - loss: 1.1999 - accuracy: 0.7910\n",
      "Epoch 94/100\n",
      "484/484 [==============================] - 5s 11ms/step - loss: 1.1689 - accuracy: 0.8005\n",
      "Epoch 95/100\n",
      "484/484 [==============================] - 5s 11ms/step - loss: 1.1644 - accuracy: 0.7962\n",
      "Epoch 96/100\n",
      "484/484 [==============================] - 5s 11ms/step - loss: 1.1580 - accuracy: 0.8014\n",
      "Epoch 97/100\n",
      "484/484 [==============================] - 5s 11ms/step - loss: 1.1506 - accuracy: 0.7972\n",
      "Epoch 98/100\n",
      "484/484 [==============================] - 5s 11ms/step - loss: 1.1431 - accuracy: 0.8019\n",
      "Epoch 99/100\n",
      "484/484 [==============================] - 5s 11ms/step - loss: 1.1293 - accuracy: 0.8013\n",
      "Epoch 100/100\n",
      "484/484 [==============================] - 5s 11ms/step - loss: 1.1247 - accuracy: 0.8042\n"
     ]
    }
   ],
   "source": [
    " history = model.fit(predictors, label, epochs=100, verbose=1)"
   ]
  },
  {
   "cell_type": "code",
   "execution_count": 5,
   "metadata": {
    "colab": {
     "base_uri": "https://localhost:8080/",
     "height": 545
    },
    "colab_type": "code",
    "id": "1fXTEO3GJ282",
    "outputId": "18a9536e-b839-49fc-da94-4986a4c96067"
   },
   "outputs": [
    {
     "data": {
      "image/png": "[encoded data removed]",
      "text/plain": [
       "<Figure size 432x288 with 1 Axes>"
      ]
     },
     "metadata": {
      "needs_background": "light",
      "tags": []
     },
     "output_type": "display_data"
    },
    {
     "data": {
      "image/png": "[encoded data removed]",
      "text/plain": [
       "<Figure size 432x288 with 1 Axes>"
      ]
     },
     "metadata": {
      "needs_background": "light",
      "tags": []
     },
     "output_type": "display_data"
    }
   ],
   "source": [
    "import matplotlib.pyplot as plt\n",
    "acc = history.history['accuracy']\n",
    "loss = history.history['loss']\n",
    "\n",
    "epochs = range(len(acc))\n",
    "\n",
    "plt.plot(epochs, acc, 'b', label='Training accuracy')\n",
    "plt.title('Training accuracy')\n",
    "\n",
    "plt.figure()\n",
    "\n",
    "plt.plot(epochs, loss, 'b', label='Training Loss')\n",
    "plt.title('Training loss')\n",
    "plt.legend()\n",
    "\n",
    "plt.show()"
   ]
  },
  {
   "cell_type": "code",
   "execution_count": 7,
   "metadata": {
    "colab": {
     "base_uri": "https://localhost:8080/",
     "height": 54
    },
    "colab_type": "code",
    "id": "6Vc6PHgxa6Hm",
    "outputId": "bc8e71c4-dc4e-4d1e-d854-4d703ef43bbc"
   },
   "outputs": [
    {
     "name": "stdout",
     "output_type": "stream",
     "text": [
      "Help me Obi Wan Kenobi, you're my only hope enough my memory look new dead near taken taken brought on loss 'tis riper days held taken ride latch bevel kill'd bring me dead rare appear brought of held held place old wrong ocean days live made they grew that eyes die say there die grew sweet pain thee thee not counted fair ill pride still die die ' made every face bright way sit sit deeds new slow taken taken mad twain cross'd bide strange new faith dead twain go dead grew dead faith seen told me dead weeds end light shines dead open air exchanged dead faith torn\n"
     ]
    }
   ],
   "source": [
    "seed_text = \"Help me Obi Wan Kenobi, you're my only hope\"\n",
    "next_words = 100\n",
    "  \n",
    "for _ in range(next_words):\n",
    "\ttoken_list = tokenizer.texts_to_sequences([seed_text])[0]\n",
    "\ttoken_list = pad_sequences([token_list], maxlen=max_sequence_len-1, padding='pre')\n",
    "\tpredicted = model.predict_classes(token_list, verbose=0)\n",
    "\toutput_word = \"\"\n",
    "\tfor word, index in tokenizer.word_index.items():\n",
    "\t\tif index == predicted:\n",
    "\t\t\toutput_word = word\n",
    "\t\t\tbreak\n",
    "\tseed_text += \" \" + output_word\n",
    "print(seed_text)"
   ]
  }
 ],
 "metadata": {
  "accelerator": "GPU",
  "colab": {
   "name": "NLP_Week4_Exercise_Shakespeare_Answer.ipynb",
   "provenance": [],
   "toc_visible": true
  },
  "kernelspec": {
   "display_name": "Python 3",
   "language": "python",
   "name": "python3"
  },
  "language_info": {
   "codemirror_mode": {
    "name": "ipython",
    "version": 3
   },
   "file_extension": ".py",
   "mimetype": "text/x-python",
   "name": "python",
   "nbconvert_exporter": "python",
   "pygments_lexer": "ipython3",
   "version": "3.6.9"
  }
 },
 "nbformat": 4,
 "nbformat_minor": 1
}
