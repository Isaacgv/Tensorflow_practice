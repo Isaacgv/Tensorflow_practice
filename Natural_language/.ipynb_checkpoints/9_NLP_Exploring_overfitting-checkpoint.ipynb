{
 "cells": [
  {
   "cell_type": "code",
   "execution_count": 2,
   "metadata": {
    "colab": {},
    "colab_type": "code",
    "id": "czkUekuI_jsZ"
   },
   "outputs": [],
   "source": [
    "import json\n",
    "import tensorflow as tf\n",
    "import csv\n",
    "import random\n",
    "import numpy as np\n",
    "\n",
    "from tensorflow.keras.preprocessing.text import Tokenizer\n",
    "from tensorflow.keras.preprocessing.sequence import pad_sequences\n",
    "from tensorflow.keras.utils import to_categorical\n",
    "from tensorflow.keras import regularizers"
   ]
  },
  {
   "cell_type": "code",
   "execution_count": 3,
   "metadata": {
    "colab": {},
    "colab_type": "code",
    "id": "hmA6EzkQJ5jt"
   },
   "outputs": [],
   "source": [
    "embedding_dim = 100\n",
    "max_length = 16\n",
    "trunc_type='post'\n",
    "padding_type='post'\n",
    "oov_tok = \"<OOV>\"\n",
    "training_size=160000\n",
    "test_portion=.1\n",
    "\n",
    "corpus = []\n"
   ]
  },
  {
   "cell_type": "code",
   "execution_count": 4,
   "metadata": {
    "colab": {
     "base_uri": "https://localhost:8080/",
     "height": 228
    },
    "colab_type": "code",
    "id": "bM0l_dORKqE0",
    "outputId": "2b098087-285a-4218-9a07-e6cda28c0ece"
   },
   "outputs": [
    {
     "name": "stdout",
     "output_type": "stream",
     "text": [
      "--2020-07-25 19:14:00--  https://storage.googleapis.com/laurencemoroney-blog.appspot.com/training_cleaned.csv\n",
      "Resolving storage.googleapis.com (storage.googleapis.com)... 74.125.126.128, 172.217.212.128, 172.217.214.128, ...\n",
      "Connecting to storage.googleapis.com (storage.googleapis.com)|74.125.126.128|:443... connected.\n",
      "HTTP request sent, awaiting response... 200 OK\n",
      "Length: 238942690 (228M) [application/octet-stream]\n",
      "Saving to: ‘/tmp/training_cleaned.csv’\n",
      "\n",
      "/tmp/training_clean 100%[===================>] 227.87M  27.0MB/s    in 8.7s    \n",
      "\n",
      "2020-07-25 19:14:09 (26.3 MB/s) - ‘/tmp/training_cleaned.csv’ saved [238942690/238942690]\n",
      "\n"
     ]
    }
   ],
   "source": [
    "# Note that I cleaned the Stanford dataset to remove LATIN1 encoding to make it easier for Python CSV reader\n",
    "# You can do that yourself with:\n",
    "# iconv -f LATIN1 -t UTF8 training.1600000.processed.noemoticon.csv -o training_cleaned.csv\n",
    "# I then hosted it on my site to make it easier to use in this notebook\n",
    "\n",
    "!wget --no-check-certificate \\\n",
    "    https://storage.googleapis.com/laurencemoroney-blog.appspot.com/training_cleaned.csv \\\n",
    "    -O /tmp/training_cleaned.csv\n",
    "\n",
    "num_sentences = 0\n",
    "\n",
    "with open(\"/tmp/training_cleaned.csv\") as csvfile:\n",
    "    reader = csv.reader(csvfile, delimiter=',')\n",
    "    for row in reader:\n",
    "        list_item=[]\n",
    "        list_item.append(row[5])\n",
    "        this_label=row[0]\n",
    "        if this_label=='0':\n",
    "            list_item.append(0)\n",
    "        else:\n",
    "            list_item.append(1)\n",
    "        num_sentences = num_sentences + 1\n",
    "        corpus.append(list_item)\n"
   ]
  },
  {
   "cell_type": "code",
   "execution_count": 5,
   "metadata": {
    "colab": {
     "base_uri": "https://localhost:8080/",
     "height": 89
    },
    "colab_type": "code",
    "id": "3kxblBUjEUX-",
    "outputId": "9473dac4-8a1c-4c6c-da24-0f13392b6904"
   },
   "outputs": [
    {
     "name": "stdout",
     "output_type": "stream",
     "text": [
      "1600000\n",
      "1600000\n",
      "[\"is upset that he can't update his Facebook by texting it... and might cry as a result  School today also. Blah!\", 0]\n"
     ]
    }
   ],
   "source": [
    "print(num_sentences)\n",
    "print(len(corpus))\n",
    "print(corpus[1])\n",
    "\n",
    "# Expected Output:\n",
    "# 1600000\n",
    "# 1600000\n",
    "# [\"is upset that he can't update his Facebook by texting it... and might cry as a result  School today also. Blah!\", 0]"
   ]
  },
  {
   "cell_type": "code",
   "execution_count": 6,
   "metadata": {
    "colab": {},
    "colab_type": "code",
    "id": "ohOGz24lsNAD"
   },
   "outputs": [],
   "source": [
    "sentences=[]\n",
    "labels=[]\n",
    "random.shuffle(corpus)\n",
    "for x in range(training_size):\n",
    "    sentences.append(corpus[x][0])\n",
    "    labels.append(corpus[x][1])"
   ]
  },
  {
   "cell_type": "code",
   "execution_count": 7,
   "metadata": {
    "colab": {},
    "colab_type": "code",
    "id": "3ZdpTqzuBLIf"
   },
   "outputs": [],
   "source": [
    "tokenizer = Tokenizer()\n",
    "tokenizer.fit_on_texts(sentences)\n",
    "\n",
    "word_index = tokenizer.word_index\n",
    "vocab_size=len(word_index)\n",
    "\n",
    "sequences = tokenizer.texts_to_sequences(sentences)\n",
    "padded = pad_sequences(sequences, maxlen=max_length, padding=padding_type, truncating=trunc_type)\n",
    "\n",
    "split = int(test_portion * training_size)\n",
    "\n",
    "test_sequences = padded[0:split]\n",
    "training_sequences = padded[split:training_size]\n",
    "test_labels = labels[0:split]\n",
    "training_labels = labels[split:training_size]"
   ]
  },
  {
   "cell_type": "code",
   "execution_count": 8,
   "metadata": {
    "colab": {
     "base_uri": "https://localhost:8080/",
     "height": 52
    },
    "colab_type": "code",
    "id": "gIrtRem1En3N",
    "outputId": "113d76d5-f992-4b9f-98df-81417ca5e3a2"
   },
   "outputs": [
    {
     "name": "stdout",
     "output_type": "stream",
     "text": [
      "138209\n",
      "1\n"
     ]
    }
   ],
   "source": [
    "print(vocab_size)\n",
    "print(word_index['i'])\n",
    "# Expected Output\n",
    "# 138858\n",
    "# 1"
   ]
  },
  {
   "cell_type": "code",
   "execution_count": 9,
   "metadata": {
    "colab": {
     "base_uri": "https://localhost:8080/",
     "height": 228
    },
    "colab_type": "code",
    "id": "C1zdgJkusRh0",
    "outputId": "91044385-9e20-45e8-cbc5-39e6ec97cac9"
   },
   "outputs": [
    {
     "name": "stdout",
     "output_type": "stream",
     "text": [
      "--2020-07-25 19:14:22--  https://storage.googleapis.com/laurencemoroney-blog.appspot.com/glove.6B.100d.txt\n",
      "Resolving storage.googleapis.com (storage.googleapis.com)... 172.217.212.128, 172.217.214.128, 108.177.111.128, ...\n",
      "Connecting to storage.googleapis.com (storage.googleapis.com)|172.217.212.128|:443... connected.\n",
      "HTTP request sent, awaiting response... 200 OK\n",
      "Length: 347116733 (331M) [text/plain]\n",
      "Saving to: ‘/tmp/glove.6B.100d.txt’\n",
      "\n",
      "/tmp/glove.6B.100d. 100%[===================>] 331.04M  61.8MB/s    in 6.4s    \n",
      "\n",
      "2020-07-25 19:14:29 (51.9 MB/s) - ‘/tmp/glove.6B.100d.txt’ saved [347116733/347116733]\n",
      "\n"
     ]
    }
   ],
   "source": [
    "# Note this is the 100 dimension version of GloVe from Stanford\n",
    "# I unzipped and hosted it on my site to make this notebook easier\n",
    "!wget --no-check-certificate \\\n",
    "    https://storage.googleapis.com/laurencemoroney-blog.appspot.com/glove.6B.100d.txt \\\n",
    "    -O /tmp/glove.6B.100d.txt\n",
    "embeddings_index = {};\n",
    "with open('/tmp/glove.6B.100d.txt') as f:\n",
    "    for line in f:\n",
    "        values = line.split();\n",
    "        word = values[0];\n",
    "        coefs = np.asarray(values[1:], dtype='float32');\n",
    "        embeddings_index[word] = coefs;\n",
    "\n",
    "embeddings_matrix = np.zeros((vocab_size+1, embedding_dim));\n",
    "for word, i in word_index.items():\n",
    "    embedding_vector = embeddings_index.get(word);\n",
    "    if embedding_vector is not None:\n",
    "        embeddings_matrix[i] = embedding_vector;"
   ]
  },
  {
   "cell_type": "code",
   "execution_count": 10,
   "metadata": {
    "colab": {
     "base_uri": "https://localhost:8080/",
     "height": 34
    },
    "colab_type": "code",
    "id": "71NLk_lpFLNt",
    "outputId": "064bd9e0-54a2-43d1-ed82-8e97c9eba528"
   },
   "outputs": [
    {
     "name": "stdout",
     "output_type": "stream",
     "text": [
      "138210\n"
     ]
    }
   ],
   "source": [
    "print(len(embeddings_matrix))\n",
    "# Expected Output\n",
    "# 138859"
   ]
  },
  {
   "cell_type": "code",
   "execution_count": 11,
   "metadata": {
    "colab": {
     "base_uri": "https://localhost:8080/",
     "height": 364
    },
    "colab_type": "code",
    "id": "iKKvbuEBOGFz",
    "outputId": "6a64f7f6-e315-4653-a989-985a17a140d8"
   },
   "outputs": [
    {
     "name": "stdout",
     "output_type": "stream",
     "text": [
      "Model: \"sequential\"\n",
      "_________________________________________________________________\n",
      "Layer (type)                 Output Shape              Param #   \n",
      "=================================================================\n",
      "embedding (Embedding)        (None, 16, 100)           13821000  \n",
      "_________________________________________________________________\n",
      "dropout (Dropout)            (None, 16, 100)           0         \n",
      "_________________________________________________________________\n",
      "conv1d (Conv1D)              (None, 12, 64)            32064     \n",
      "_________________________________________________________________\n",
      "max_pooling1d (MaxPooling1D) (None, 3, 64)             0         \n",
      "_________________________________________________________________\n",
      "lstm (LSTM)                  (None, 64)                33024     \n",
      "_________________________________________________________________\n",
      "dense (Dense)                (None, 1)                 65        \n",
      "=================================================================\n",
      "Total params: 13,886,153\n",
      "Trainable params: 65,153\n",
      "Non-trainable params: 13,821,000\n",
      "_________________________________________________________________\n"
     ]
    }
   ],
   "source": [
    "model = tf.keras.Sequential([\n",
    "    tf.keras.layers.Embedding(vocab_size+1, embedding_dim, input_length=max_length, weights=[embeddings_matrix], trainable=False),\n",
    "    tf.keras.layers.Dropout(0.2),\n",
    "    tf.keras.layers.Conv1D(64, 5, activation='relu'),\n",
    "    tf.keras.layers.MaxPooling1D(pool_size=4),\n",
    "    tf.keras.layers.LSTM(64),\n",
    "    tf.keras.layers.Dense(1, activation='sigmoid')\n",
    "])\n",
    "model.compile(loss='binary_crossentropy',optimizer='adam',metrics=['accuracy'])\n",
    "model.summary()"
   ]
  },
  {
   "cell_type": "code",
   "execution_count": 12,
   "metadata": {
    "colab": {
     "base_uri": "https://localhost:8080/",
     "height": 1000
    },
    "colab_type": "code",
    "id": "b-Oc_zfEBa0d",
    "outputId": "ed0e4ec2-9243-4803-fdaf-6f78c7ab3a0e"
   },
   "outputs": [
    {
     "name": "stdout",
     "output_type": "stream",
     "text": [
      "Epoch 1/50\n",
      "4500/4500 - 15s - loss: 0.5673 - accuracy: 0.6983 - val_loss: 0.5249 - val_accuracy: 0.7341\n",
      "Epoch 2/50\n",
      "4500/4500 - 14s - loss: 0.5278 - accuracy: 0.7308 - val_loss: 0.5117 - val_accuracy: 0.7414\n",
      "Epoch 3/50\n",
      "4500/4500 - 14s - loss: 0.5113 - accuracy: 0.7425 - val_loss: 0.5144 - val_accuracy: 0.7381\n",
      "Epoch 4/50\n",
      "4500/4500 - 14s - loss: 0.5006 - accuracy: 0.7512 - val_loss: 0.5071 - val_accuracy: 0.7458\n",
      "Epoch 5/50\n",
      "4500/4500 - 14s - loss: 0.4919 - accuracy: 0.7569 - val_loss: 0.4995 - val_accuracy: 0.7511\n",
      "Epoch 6/50\n",
      "4500/4500 - 14s - loss: 0.4839 - accuracy: 0.7614 - val_loss: 0.5032 - val_accuracy: 0.7506\n",
      "Epoch 7/50\n",
      "4500/4500 - 14s - loss: 0.4787 - accuracy: 0.7651 - val_loss: 0.4993 - val_accuracy: 0.7501\n",
      "Epoch 8/50\n",
      "4500/4500 - 14s - loss: 0.4752 - accuracy: 0.7671 - val_loss: 0.5040 - val_accuracy: 0.7511\n",
      "Epoch 9/50\n",
      "4500/4500 - 14s - loss: 0.4703 - accuracy: 0.7703 - val_loss: 0.4996 - val_accuracy: 0.7529\n",
      "Epoch 10/50\n",
      "4500/4500 - 14s - loss: 0.4663 - accuracy: 0.7730 - val_loss: 0.5059 - val_accuracy: 0.7497\n",
      "Epoch 11/50\n",
      "4500/4500 - 14s - loss: 0.4622 - accuracy: 0.7760 - val_loss: 0.5027 - val_accuracy: 0.7503\n",
      "Epoch 12/50\n",
      "4500/4500 - 14s - loss: 0.4607 - accuracy: 0.7770 - val_loss: 0.5026 - val_accuracy: 0.7518\n",
      "Epoch 13/50\n",
      "4500/4500 - 14s - loss: 0.4572 - accuracy: 0.7778 - val_loss: 0.5030 - val_accuracy: 0.7494\n",
      "Epoch 14/50\n",
      "4500/4500 - 14s - loss: 0.4539 - accuracy: 0.7806 - val_loss: 0.5081 - val_accuracy: 0.7496\n",
      "Epoch 15/50\n",
      "4500/4500 - 14s - loss: 0.4520 - accuracy: 0.7818 - val_loss: 0.5119 - val_accuracy: 0.7511\n",
      "Epoch 16/50\n",
      "4500/4500 - 15s - loss: 0.4495 - accuracy: 0.7832 - val_loss: 0.5146 - val_accuracy: 0.7497\n",
      "Epoch 17/50\n",
      "4500/4500 - 15s - loss: 0.4480 - accuracy: 0.7844 - val_loss: 0.5113 - val_accuracy: 0.7531\n",
      "Epoch 18/50\n",
      "4500/4500 - 14s - loss: 0.4472 - accuracy: 0.7844 - val_loss: 0.5101 - val_accuracy: 0.7476\n",
      "Epoch 19/50\n",
      "4500/4500 - 14s - loss: 0.4469 - accuracy: 0.7846 - val_loss: 0.5132 - val_accuracy: 0.7446\n",
      "Epoch 20/50\n",
      "4500/4500 - 14s - loss: 0.4443 - accuracy: 0.7856 - val_loss: 0.5146 - val_accuracy: 0.7483\n",
      "Epoch 21/50\n",
      "4500/4500 - 14s - loss: 0.4441 - accuracy: 0.7857 - val_loss: 0.5128 - val_accuracy: 0.7498\n",
      "Epoch 22/50\n",
      "4500/4500 - 14s - loss: 0.4434 - accuracy: 0.7868 - val_loss: 0.5083 - val_accuracy: 0.7526\n",
      "Epoch 23/50\n",
      "4500/4500 - 14s - loss: 0.4427 - accuracy: 0.7882 - val_loss: 0.5116 - val_accuracy: 0.7498\n",
      "Epoch 24/50\n",
      "4500/4500 - 14s - loss: 0.4399 - accuracy: 0.7900 - val_loss: 0.5156 - val_accuracy: 0.7511\n",
      "Epoch 25/50\n",
      "4500/4500 - 14s - loss: 0.4394 - accuracy: 0.7895 - val_loss: 0.5133 - val_accuracy: 0.7523\n",
      "Epoch 26/50\n",
      "4500/4500 - 14s - loss: 0.4397 - accuracy: 0.7894 - val_loss: 0.5142 - val_accuracy: 0.7511\n",
      "Epoch 27/50\n",
      "4500/4500 - 14s - loss: 0.4377 - accuracy: 0.7891 - val_loss: 0.5243 - val_accuracy: 0.7449\n",
      "Epoch 28/50\n",
      "4500/4500 - 14s - loss: 0.4379 - accuracy: 0.7899 - val_loss: 0.5109 - val_accuracy: 0.7494\n",
      "Epoch 29/50\n",
      "4500/4500 - 14s - loss: 0.4374 - accuracy: 0.7905 - val_loss: 0.5177 - val_accuracy: 0.7476\n",
      "Epoch 30/50\n",
      "4500/4500 - 14s - loss: 0.4363 - accuracy: 0.7901 - val_loss: 0.5161 - val_accuracy: 0.7472\n",
      "Epoch 31/50\n",
      "4500/4500 - 14s - loss: 0.4367 - accuracy: 0.7918 - val_loss: 0.5103 - val_accuracy: 0.7513\n",
      "Epoch 32/50\n",
      "4500/4500 - 14s - loss: 0.4334 - accuracy: 0.7938 - val_loss: 0.5163 - val_accuracy: 0.7490\n",
      "Epoch 33/50\n",
      "4500/4500 - 14s - loss: 0.4345 - accuracy: 0.7926 - val_loss: 0.5136 - val_accuracy: 0.7486\n",
      "Epoch 34/50\n",
      "4500/4500 - 14s - loss: 0.4340 - accuracy: 0.7935 - val_loss: 0.5131 - val_accuracy: 0.7510\n",
      "Epoch 35/50\n",
      "4500/4500 - 14s - loss: 0.4338 - accuracy: 0.7930 - val_loss: 0.5195 - val_accuracy: 0.7475\n",
      "Epoch 36/50\n",
      "4500/4500 - 15s - loss: 0.4330 - accuracy: 0.7929 - val_loss: 0.5177 - val_accuracy: 0.7494\n",
      "Epoch 37/50\n",
      "4500/4500 - 14s - loss: 0.4334 - accuracy: 0.7921 - val_loss: 0.5165 - val_accuracy: 0.7447\n",
      "Epoch 38/50\n",
      "4500/4500 - 15s - loss: 0.4332 - accuracy: 0.7936 - val_loss: 0.5167 - val_accuracy: 0.7451\n",
      "Epoch 39/50\n",
      "4500/4500 - 14s - loss: 0.4311 - accuracy: 0.7945 - val_loss: 0.5126 - val_accuracy: 0.7496\n",
      "Epoch 40/50\n",
      "4500/4500 - 14s - loss: 0.4307 - accuracy: 0.7942 - val_loss: 0.5196 - val_accuracy: 0.7466\n",
      "Epoch 41/50\n",
      "4500/4500 - 14s - loss: 0.4324 - accuracy: 0.7933 - val_loss: 0.5154 - val_accuracy: 0.7446\n",
      "Epoch 42/50\n",
      "4500/4500 - 14s - loss: 0.4309 - accuracy: 0.7938 - val_loss: 0.5239 - val_accuracy: 0.7454\n",
      "Epoch 43/50\n",
      "4500/4500 - 14s - loss: 0.4289 - accuracy: 0.7960 - val_loss: 0.5259 - val_accuracy: 0.7448\n",
      "Epoch 44/50\n",
      "4500/4500 - 14s - loss: 0.4309 - accuracy: 0.7955 - val_loss: 0.5207 - val_accuracy: 0.7467\n",
      "Epoch 45/50\n",
      "4500/4500 - 14s - loss: 0.4299 - accuracy: 0.7961 - val_loss: 0.5224 - val_accuracy: 0.7448\n",
      "Epoch 46/50\n",
      "4500/4500 - 14s - loss: 0.4293 - accuracy: 0.7961 - val_loss: 0.5268 - val_accuracy: 0.7460\n",
      "Epoch 47/50\n",
      "4500/4500 - 14s - loss: 0.4291 - accuracy: 0.7960 - val_loss: 0.5226 - val_accuracy: 0.7452\n",
      "Epoch 48/50\n",
      "4500/4500 - 14s - loss: 0.4310 - accuracy: 0.7942 - val_loss: 0.5255 - val_accuracy: 0.7466\n",
      "Epoch 49/50\n",
      "4500/4500 - 14s - loss: 0.4283 - accuracy: 0.7964 - val_loss: 0.5225 - val_accuracy: 0.7455\n",
      "Epoch 50/50\n",
      "4500/4500 - 14s - loss: 0.4294 - accuracy: 0.7955 - val_loss: 0.5291 - val_accuracy: 0.7423\n",
      "Training Complete\n"
     ]
    }
   ],
   "source": [
    "num_epochs = 50\n",
    "\n",
    "training_padded = np.array(training_sequences)\n",
    "training_labels = np.array(training_labels)\n",
    "testing_padded = np.array(test_sequences)\n",
    "testing_labels = np.array(test_labels)\n",
    "\n",
    "history = model.fit(training_padded, training_labels, epochs=num_epochs, validation_data=(testing_padded, testing_labels), verbose=2)\n",
    "\n",
    "print(\"Training Complete\")"
   ]
  },
  {
   "cell_type": "code",
   "execution_count": 13,
   "metadata": {
    "colab": {
     "base_uri": "https://localhost:8080/",
     "height": 330
    },
    "colab_type": "code",
    "id": "qxju4ItJKO8F",
    "outputId": "bed13c85-15ba-4748-9d3a-e96d52e46688"
   },
   "outputs": [
    {
     "data": {
      "text/plain": [
       "<Figure size 432x288 with 0 Axes>"
      ]
     },
     "execution_count": 13,
     "metadata": {
      "tags": []
     },
     "output_type": "execute_result"
    },
    {
     "data": {
      "image/png": "[encoded data removed]",
      "text/plain": [
       "<Figure size 432x288 with 1 Axes>"
      ]
     },
     "metadata": {
      "needs_background": "light",
      "tags": []
     },
     "output_type": "display_data"
    },
    {
     "data": {
      "text/plain": [
       "<Figure size 432x288 with 0 Axes>"
      ]
     },
     "metadata": {
      "tags": []
     },
     "output_type": "display_data"
    }
   ],
   "source": [
    "import matplotlib.image  as mpimg\n",
    "import matplotlib.pyplot as plt\n",
    "\n",
    "#-----------------------------------------------------------\n",
    "# Retrieve a list of list results on training and test data\n",
    "# sets for each training epoch\n",
    "#-----------------------------------------------------------\n",
    "acc=history.history['accuracy']\n",
    "val_acc=history.history['val_accuracy']\n",
    "loss=history.history['loss']\n",
    "val_loss=history.history['val_loss']\n",
    "\n",
    "epochs=range(len(acc)) # Get number of epochs\n",
    "\n",
    "#------------------------------------------------\n",
    "# Plot training and validation accuracy per epoch\n",
    "#------------------------------------------------\n",
    "plt.plot(epochs, acc, 'r')\n",
    "plt.plot(epochs, val_acc, 'b')\n",
    "plt.title('Training and validation accuracy')\n",
    "plt.xlabel(\"Epochs\")\n",
    "plt.ylabel(\"Accuracy\")\n",
    "plt.legend([\"Accuracy\", \"Validation Accuracy\"])\n",
    "\n",
    "plt.figure()\n"
   ]
  },
  {
   "cell_type": "code",
   "execution_count": 14,
   "metadata": {
    "colab": {
     "base_uri": "https://localhost:8080/",
     "height": 330
    },
    "colab_type": "code",
    "id": "qBrZo4DwCPv9",
    "outputId": "b1514002-6fc8-4f91-c5cc-e64d2076d3e1"
   },
   "outputs": [
    {
     "data": {
      "text/plain": [
       "<Figure size 432x288 with 0 Axes>"
      ]
     },
     "execution_count": 14,
     "metadata": {
      "tags": []
     },
     "output_type": "execute_result"
    },
    {
     "data": {
      "image/png": "[encoded data removed]",
      "text/plain": [
       "<Figure size 432x288 with 1 Axes>"
      ]
     },
     "metadata": {
      "needs_background": "light",
      "tags": []
     },
     "output_type": "display_data"
    },
    {
     "data": {
      "text/plain": [
       "<Figure size 432x288 with 0 Axes>"
      ]
     },
     "metadata": {
      "tags": []
     },
     "output_type": "display_data"
    }
   ],
   "source": [
    "\n",
    "#------------------------------------------------\n",
    "# Plot training and validation loss per epoch\n",
    "#------------------------------------------------\n",
    "plt.plot(epochs, loss, 'r')\n",
    "plt.plot(epochs, val_loss, 'b')\n",
    "plt.title('Training and validation loss')\n",
    "plt.xlabel(\"Epochs\")\n",
    "plt.ylabel(\"Loss\")\n",
    "plt.legend([\"Loss\", \"Validation Loss\"])\n",
    "\n",
    "plt.figure()\n",
    "\n",
    "\n",
    "# Expected Output\n",
    "# A chart where the validation loss does not increase sharply!"
   ]
  }
 ],
 "metadata": {
  "accelerator": "GPU",
  "colab": {
   "name": "NLP Course - Week 3 Exercise Answer.ipynb",
   "provenance": [],
   "toc_visible": true
  },
  "kernelspec": {
   "display_name": "Python 3",
   "language": "python",
   "name": "python3"
  },
  "language_info": {
   "codemirror_mode": {
    "name": "ipython",
    "version": 3
   },
   "file_extension": ".py",
   "mimetype": "text/x-python",
   "name": "python",
   "nbconvert_exporter": "python",
   "pygments_lexer": "ipython3",
   "version": "3.6.9"
  }
 },
 "nbformat": 4,
 "nbformat_minor": 1
}
