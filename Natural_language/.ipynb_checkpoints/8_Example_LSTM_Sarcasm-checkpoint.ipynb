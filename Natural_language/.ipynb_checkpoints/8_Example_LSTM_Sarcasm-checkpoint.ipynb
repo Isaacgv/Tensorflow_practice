{
 "cells": [
  {
   "cell_type": "markdown",
   "metadata": {
    "colab_type": "text",
    "id": "9Ze2Vqbq8LQj"
   },
   "source": [
    "# Exploring different sequence models - Sarcasm"
   ]
  },
  {
   "cell_type": "code",
   "execution_count": 1,
   "metadata": {
    "colab": {
     "base_uri": "https://localhost:8080/",
     "height": 228
    },
    "colab_type": "code",
    "id": "tXdY_5m3qala",
    "outputId": "a7e1d09f-c0cd-4ab6-d0a0-015d330b1cf6"
   },
   "outputs": [
    {
     "name": "stdout",
     "output_type": "stream",
     "text": [
      "--2020-07-25 17:05:39--  https://storage.googleapis.com/laurencemoroney-blog.appspot.com/sarcasm.json\n",
      "Resolving storage.googleapis.com (storage.googleapis.com)... 64.233.188.128, 64.233.189.128, 108.177.97.128, ...\n",
      "Connecting to storage.googleapis.com (storage.googleapis.com)|64.233.188.128|:443... connected.\n",
      "HTTP request sent, awaiting response... 200 OK\n",
      "Length: 5643545 (5.4M) [application/json]\n",
      "Saving to: ‘/tmp/sarcasm.json’\n",
      "\n",
      "\r",
      "/tmp/sarcasm.json     0%[                    ]       0  --.-KB/s               \r",
      "/tmp/sarcasm.json    74%[=============>      ]   4.01M  15.9MB/s               \r",
      "/tmp/sarcasm.json   100%[===================>]   5.38M  20.7MB/s    in 0.3s    \n",
      "\n",
      "2020-07-25 17:05:39 (20.7 MB/s) - ‘/tmp/sarcasm.json’ saved [5643545/5643545]\n",
      "\n"
     ]
    }
   ],
   "source": [
    "import numpy as np\n",
    "\n",
    "import json\n",
    "import tensorflow as tf\n",
    "\n",
    "from tensorflow.keras.preprocessing.text import Tokenizer\n",
    "from tensorflow.keras.preprocessing.sequence import pad_sequences\n",
    "\n",
    "!wget --no-check-certificate \\\n",
    "    https://storage.googleapis.com/laurencemoroney-blog.appspot.com/sarcasm.json \\\n",
    "    -O /tmp/sarcasm.json"
   ]
  },
  {
   "cell_type": "code",
   "execution_count": 2,
   "metadata": {
    "colab": {},
    "colab_type": "code",
    "id": "2jkALiveqa6m"
   },
   "outputs": [],
   "source": [
    "vocab_size = 1000\n",
    "embedding_dim = 16\n",
    "max_length = 120\n",
    "trunc_type='post'\n",
    "padding_type='post'\n",
    "oov_tok = \"<OOV>\"\n",
    "training_size = 20000"
   ]
  },
  {
   "cell_type": "code",
   "execution_count": 3,
   "metadata": {
    "colab": {},
    "colab_type": "code",
    "id": "wguyLiuiqhiE"
   },
   "outputs": [],
   "source": [
    "with open(\"/tmp/sarcasm.json\", 'r') as f:\n",
    "    datastore = json.load(f)"
   ]
  },
  {
   "cell_type": "code",
   "execution_count": 4,
   "metadata": {
    "colab": {},
    "colab_type": "code",
    "id": "parBMTE1qlgE"
   },
   "outputs": [],
   "source": [
    "sentences = []\n",
    "labels = []\n",
    "urls = []\n",
    "\n",
    "for item in datastore:\n",
    "    sentences.append(item['headline'])\n",
    "    labels.append(item['is_sarcastic'])"
   ]
  },
  {
   "cell_type": "code",
   "execution_count": 5,
   "metadata": {
    "colab": {},
    "colab_type": "code",
    "id": "LU3nv7t3qomE"
   },
   "outputs": [],
   "source": [
    "training_sentences = sentences[0:training_size]\n",
    "testing_sentences = sentences[training_size:]\n",
    "training_labels = labels[0:training_size]\n",
    "testing_labels = labels[training_size:]"
   ]
  },
  {
   "cell_type": "code",
   "execution_count": 9,
   "metadata": {
    "colab": {
     "base_uri": "https://localhost:8080/",
     "height": 121
    },
    "colab_type": "code",
    "id": "dCCDwfZR8f6a",
    "outputId": "14b59613-9907-4ffe-e2d8-fbeec4c9f060"
   },
   "outputs": [
    {
     "data": {
      "text/plain": [
       "([\"former versace store clerk sues over secret 'black code' for minority shoppers\",\n",
       "  \"the 'roseanne' revival catches up to our thorny political mood, for better and worse\",\n",
       "  \"mom starting to fear son's web series closest thing she will have to grandchild\",\n",
       "  'boehner just wants wife to listen, not come up with alternative debt-reduction ideas',\n",
       "  'j.k. rowling wishes snape happy birthday in the most magical way'],\n",
       " [0, 0, 1, 1, 0])"
      ]
     },
     "execution_count": 9,
     "metadata": {
      "tags": []
     },
     "output_type": "execute_result"
    }
   ],
   "source": [
    "training_sentences[:5], training_labels[:5]"
   ]
  },
  {
   "cell_type": "code",
   "execution_count": 15,
   "metadata": {
    "colab": {},
    "colab_type": "code",
    "id": "A-AialtxqpLh"
   },
   "outputs": [],
   "source": [
    "tokenizer = Tokenizer(num_words=vocab_size, oov_token=oov_tok)\n",
    "tokenizer.fit_on_texts(training_sentences)\n",
    "\n",
    "word_index = tokenizer.word_index\n",
    "\n"
   ]
  },
  {
   "cell_type": "code",
   "execution_count": 17,
   "metadata": {
    "colab": {},
    "colab_type": "code",
    "id": "Uv1mZg-k9A7o"
   },
   "outputs": [],
   "source": [
    "training_sequences = tokenizer.texts_to_sequences(training_sentences)\n",
    "training_padded = pad_sequences(training_sequences, maxlen=max_length, padding=padding_type, truncating=trunc_type)\n",
    "\n",
    "testing_sequences = tokenizer.texts_to_sequences(testing_sentences)\n",
    "testing_padded = pad_sequences(testing_sequences, maxlen=max_length, padding=padding_type, truncating=trunc_type)\n"
   ]
  },
  {
   "cell_type": "markdown",
   "metadata": {
    "colab_type": "text",
    "id": "u_4m5CEvVyhf"
   },
   "source": [
    "# Single Layer LSTM"
   ]
  },
  {
   "cell_type": "code",
   "execution_count": 18,
   "metadata": {
    "colab": {
     "base_uri": "https://localhost:8080/",
     "height": 295
    },
    "colab_type": "code",
    "id": "jGwXGIXvFhXW",
    "outputId": "521c2b78-cee7-41e4-ecee-8a5a2b988498"
   },
   "outputs": [
    {
     "name": "stdout",
     "output_type": "stream",
     "text": [
      "Model: \"sequential\"\n",
      "_________________________________________________________________\n",
      "Layer (type)                 Output Shape              Param #   \n",
      "=================================================================\n",
      "embedding (Embedding)        (None, 120, 16)           16000     \n",
      "_________________________________________________________________\n",
      "bidirectional (Bidirectional (None, 64)                12544     \n",
      "_________________________________________________________________\n",
      "dense (Dense)                (None, 24)                1560      \n",
      "_________________________________________________________________\n",
      "dense_1 (Dense)              (None, 1)                 25        \n",
      "=================================================================\n",
      "Total params: 30,129\n",
      "Trainable params: 30,129\n",
      "Non-trainable params: 0\n",
      "_________________________________________________________________\n"
     ]
    }
   ],
   "source": [
    "model = tf.keras.Sequential([\n",
    "    tf.keras.layers.Embedding(vocab_size, embedding_dim, input_length=max_length),\n",
    "    tf.keras.layers.Bidirectional(tf.keras.layers.LSTM(32)),\n",
    "    tf.keras.layers.Dense(24, activation='relu'),\n",
    "    tf.keras.layers.Dense(1, activation='sigmoid')\n",
    "])\n",
    "model.compile(loss='binary_crossentropy',optimizer='adam',metrics=['accuracy'])\n",
    "model.summary()\n"
   ]
  },
  {
   "cell_type": "code",
   "execution_count": 19,
   "metadata": {
    "colab": {
     "base_uri": "https://localhost:8080/",
     "height": 1000
    },
    "colab_type": "code",
    "id": "kIc47w9iqwfb",
    "outputId": "0417012a-355c-4df6-cc0d-b53953ab3e1d"
   },
   "outputs": [
    {
     "name": "stdout",
     "output_type": "stream",
     "text": [
      "Epoch 1/50\n",
      "625/625 [==============================] - 37s 60ms/step - loss: 0.4695 - accuracy: 0.7703 - val_loss: 0.3903 - val_accuracy: 0.8188\n",
      "Epoch 2/50\n",
      "625/625 [==============================] - 37s 59ms/step - loss: 0.3623 - accuracy: 0.8319 - val_loss: 0.3863 - val_accuracy: 0.8244\n",
      "Epoch 3/50\n",
      "625/625 [==============================] - 37s 59ms/step - loss: 0.3490 - accuracy: 0.8371 - val_loss: 0.3826 - val_accuracy: 0.8244\n",
      "Epoch 4/50\n",
      "625/625 [==============================] - 37s 60ms/step - loss: 0.3306 - accuracy: 0.8510 - val_loss: 0.3748 - val_accuracy: 0.8322\n",
      "Epoch 5/50\n",
      "625/625 [==============================] - 37s 60ms/step - loss: 0.3138 - accuracy: 0.8609 - val_loss: 0.3673 - val_accuracy: 0.8326\n",
      "Epoch 6/50\n",
      "625/625 [==============================] - 37s 59ms/step - loss: 0.3032 - accuracy: 0.8656 - val_loss: 0.3718 - val_accuracy: 0.8329\n",
      "Epoch 7/50\n",
      "625/625 [==============================] - 37s 58ms/step - loss: 0.2957 - accuracy: 0.8686 - val_loss: 0.3745 - val_accuracy: 0.8340\n",
      "Epoch 8/50\n",
      "625/625 [==============================] - 37s 59ms/step - loss: 0.2877 - accuracy: 0.8742 - val_loss: 0.3798 - val_accuracy: 0.8323\n",
      "Epoch 9/50\n",
      "625/625 [==============================] - 37s 59ms/step - loss: 0.2796 - accuracy: 0.8774 - val_loss: 0.4026 - val_accuracy: 0.8274\n",
      "Epoch 10/50\n",
      "625/625 [==============================] - 37s 59ms/step - loss: 0.2720 - accuracy: 0.8802 - val_loss: 0.4125 - val_accuracy: 0.8264\n",
      "Epoch 11/50\n",
      "625/625 [==============================] - 37s 59ms/step - loss: 0.2656 - accuracy: 0.8835 - val_loss: 0.4045 - val_accuracy: 0.8290\n",
      "Epoch 12/50\n",
      "625/625 [==============================] - 37s 59ms/step - loss: 0.2558 - accuracy: 0.8888 - val_loss: 0.3943 - val_accuracy: 0.8296\n",
      "Epoch 13/50\n",
      "625/625 [==============================] - 37s 59ms/step - loss: 0.2501 - accuracy: 0.8921 - val_loss: 0.4041 - val_accuracy: 0.8267\n",
      "Epoch 14/50\n",
      "625/625 [==============================] - 38s 60ms/step - loss: 0.2400 - accuracy: 0.8967 - val_loss: 0.4110 - val_accuracy: 0.8277\n",
      "Epoch 15/50\n",
      "625/625 [==============================] - 38s 60ms/step - loss: 0.2325 - accuracy: 0.9003 - val_loss: 0.4191 - val_accuracy: 0.8271\n",
      "Epoch 16/50\n",
      "625/625 [==============================] - 38s 60ms/step - loss: 0.2243 - accuracy: 0.9061 - val_loss: 0.4379 - val_accuracy: 0.8228\n",
      "Epoch 17/50\n",
      "625/625 [==============================] - 37s 60ms/step - loss: 0.2187 - accuracy: 0.9072 - val_loss: 0.4637 - val_accuracy: 0.8259\n",
      "Epoch 18/50\n",
      "625/625 [==============================] - 37s 59ms/step - loss: 0.2114 - accuracy: 0.9108 - val_loss: 0.4760 - val_accuracy: 0.8202\n",
      "Epoch 19/50\n",
      "625/625 [==============================] - 37s 59ms/step - loss: 0.2032 - accuracy: 0.9156 - val_loss: 0.5261 - val_accuracy: 0.8183\n",
      "Epoch 20/50\n",
      "625/625 [==============================] - 37s 59ms/step - loss: 0.1965 - accuracy: 0.9175 - val_loss: 0.4997 - val_accuracy: 0.8202\n",
      "Epoch 21/50\n",
      "625/625 [==============================] - 37s 59ms/step - loss: 0.1899 - accuracy: 0.9232 - val_loss: 0.4883 - val_accuracy: 0.8168\n",
      "Epoch 22/50\n",
      "625/625 [==============================] - 37s 59ms/step - loss: 0.1827 - accuracy: 0.9268 - val_loss: 0.5462 - val_accuracy: 0.8161\n",
      "Epoch 23/50\n",
      "625/625 [==============================] - 37s 59ms/step - loss: 0.1737 - accuracy: 0.9296 - val_loss: 0.5625 - val_accuracy: 0.8144\n",
      "Epoch 24/50\n",
      "625/625 [==============================] - 37s 59ms/step - loss: 0.1686 - accuracy: 0.9321 - val_loss: 0.5380 - val_accuracy: 0.8122\n",
      "Epoch 25/50\n",
      "625/625 [==============================] - 37s 59ms/step - loss: 0.1612 - accuracy: 0.9365 - val_loss: 0.5811 - val_accuracy: 0.8122\n",
      "Epoch 26/50\n",
      "625/625 [==============================] - 37s 59ms/step - loss: 0.1549 - accuracy: 0.9384 - val_loss: 0.6069 - val_accuracy: 0.8097\n",
      "Epoch 27/50\n",
      "625/625 [==============================] - 37s 59ms/step - loss: 0.1458 - accuracy: 0.9423 - val_loss: 0.6353 - val_accuracy: 0.8061\n",
      "Epoch 28/50\n",
      "625/625 [==============================] - 37s 59ms/step - loss: 0.1423 - accuracy: 0.9446 - val_loss: 0.6807 - val_accuracy: 0.8091\n",
      "Epoch 29/50\n",
      "625/625 [==============================] - 37s 59ms/step - loss: 0.1360 - accuracy: 0.9459 - val_loss: 0.7210 - val_accuracy: 0.8103\n",
      "Epoch 30/50\n",
      "625/625 [==============================] - 37s 59ms/step - loss: 0.1282 - accuracy: 0.9498 - val_loss: 0.7426 - val_accuracy: 0.8097\n",
      "Epoch 31/50\n",
      "625/625 [==============================] - 37s 59ms/step - loss: 0.1238 - accuracy: 0.9516 - val_loss: 0.7356 - val_accuracy: 0.8107\n",
      "Epoch 32/50\n",
      "625/625 [==============================] - 37s 59ms/step - loss: 0.1208 - accuracy: 0.9530 - val_loss: 0.7567 - val_accuracy: 0.8067\n",
      "Epoch 33/50\n",
      "625/625 [==============================] - 37s 59ms/step - loss: 0.1168 - accuracy: 0.9543 - val_loss: 0.7688 - val_accuracy: 0.8040\n",
      "Epoch 34/50\n",
      "625/625 [==============================] - 37s 59ms/step - loss: 0.1099 - accuracy: 0.9587 - val_loss: 0.8593 - val_accuracy: 0.8064\n",
      "Epoch 35/50\n",
      "625/625 [==============================] - 37s 59ms/step - loss: 0.1017 - accuracy: 0.9614 - val_loss: 0.8980 - val_accuracy: 0.8031\n",
      "Epoch 36/50\n",
      "625/625 [==============================] - 37s 59ms/step - loss: 0.0974 - accuracy: 0.9640 - val_loss: 0.8950 - val_accuracy: 0.8032\n",
      "Epoch 37/50\n",
      "625/625 [==============================] - 36s 57ms/step - loss: 0.0946 - accuracy: 0.9645 - val_loss: 0.9683 - val_accuracy: 0.8040\n",
      "Epoch 38/50\n",
      "625/625 [==============================] - 36s 58ms/step - loss: 0.0928 - accuracy: 0.9657 - val_loss: 0.9191 - val_accuracy: 0.8079\n",
      "Epoch 39/50\n",
      "625/625 [==============================] - 36s 57ms/step - loss: 0.0878 - accuracy: 0.9669 - val_loss: 0.9899 - val_accuracy: 0.8089\n",
      "Epoch 40/50\n",
      "625/625 [==============================] - 36s 57ms/step - loss: 0.0828 - accuracy: 0.9688 - val_loss: 1.0229 - val_accuracy: 0.8032\n",
      "Epoch 41/50\n",
      "625/625 [==============================] - 36s 57ms/step - loss: 0.0817 - accuracy: 0.9689 - val_loss: 1.0591 - val_accuracy: 0.7998\n",
      "Epoch 42/50\n",
      "625/625 [==============================] - 36s 57ms/step - loss: 0.0765 - accuracy: 0.9718 - val_loss: 1.1099 - val_accuracy: 0.8028\n",
      "Epoch 43/50\n",
      "625/625 [==============================] - 35s 57ms/step - loss: 0.0755 - accuracy: 0.9730 - val_loss: 1.1430 - val_accuracy: 0.8030\n",
      "Epoch 44/50\n",
      "625/625 [==============================] - 35s 57ms/step - loss: 0.0723 - accuracy: 0.9731 - val_loss: 1.1267 - val_accuracy: 0.7980\n",
      "Epoch 45/50\n",
      "625/625 [==============================] - 36s 57ms/step - loss: 0.0710 - accuracy: 0.9735 - val_loss: 1.1449 - val_accuracy: 0.7961\n",
      "Epoch 46/50\n",
      "625/625 [==============================] - 36s 57ms/step - loss: 0.0659 - accuracy: 0.9749 - val_loss: 1.1936 - val_accuracy: 0.7979\n",
      "Epoch 47/50\n",
      "625/625 [==============================] - 36s 57ms/step - loss: 0.0636 - accuracy: 0.9762 - val_loss: 1.2441 - val_accuracy: 0.7918\n",
      "Epoch 48/50\n",
      "625/625 [==============================] - 36s 57ms/step - loss: 0.0617 - accuracy: 0.9762 - val_loss: 1.3183 - val_accuracy: 0.7951\n",
      "Epoch 49/50\n",
      "625/625 [==============================] - 36s 57ms/step - loss: 0.0615 - accuracy: 0.9762 - val_loss: 1.3109 - val_accuracy: 0.7937\n",
      "Epoch 50/50\n",
      "625/625 [==============================] - 35s 57ms/step - loss: 0.0630 - accuracy: 0.9766 - val_loss: 1.3332 - val_accuracy: 0.7965\n"
     ]
    }
   ],
   "source": [
    "\n",
    "num_epochs = 50\n",
    "training_padded = np.array(training_padded)\n",
    "training_labels = np.array(training_labels)\n",
    "testing_padded = np.array(testing_padded)\n",
    "testing_labels = np.array(testing_labels)\n",
    "\n",
    "history = model.fit(training_padded, training_labels, epochs=num_epochs, validation_data=(testing_padded, testing_labels), verbose=1)\n"
   ]
  },
  {
   "cell_type": "code",
   "execution_count": 20,
   "metadata": {
    "colab": {},
    "colab_type": "code",
    "id": "g9DC6dmLF8DC"
   },
   "outputs": [],
   "source": [
    "import matplotlib.pyplot as plt\n",
    "\n",
    "\n",
    "def plot_graphs(history, string):\n",
    "  plt.plot(history.history[string])\n",
    "  plt.plot(history.history['val_'+string])\n",
    "  plt.xlabel(\"Epochs\")\n",
    "  plt.ylabel(string)\n",
    "  plt.legend([string, 'val_'+string])\n",
    "  plt.show()\n"
   ]
  },
  {
   "cell_type": "code",
   "execution_count": 21,
   "metadata": {
    "colab": {
     "base_uri": "https://localhost:8080/",
     "height": 541
    },
    "colab_type": "code",
    "id": "lHzX9sEd-tfW",
    "outputId": "7f4eb73f-227d-419b-e2be-4f9621256091"
   },
   "outputs": [
    {
     "data": {
      "image/png": "[encoded data removed]",
      "text/plain": [
       "<Figure size 432x288 with 1 Axes>"
      ]
     },
     "metadata": {
      "needs_background": "light",
      "tags": []
     },
     "output_type": "display_data"
    },
    {
     "data": {
      "image/png": "[encoded data removed]",
      "text/plain": [
       "<Figure size 432x288 with 1 Axes>"
      ]
     },
     "metadata": {
      "needs_background": "light",
      "tags": []
     },
     "output_type": "display_data"
    }
   ],
   "source": [
    "plot_graphs(history, 'accuracy')\n",
    "plot_graphs(history, 'loss')"
   ]
  },
  {
   "cell_type": "markdown",
   "metadata": {
    "colab_type": "text",
    "id": "oVfH10yyrN0Y"
   },
   "source": [
    "# Multiple Layer GRU"
   ]
  },
  {
   "cell_type": "code",
   "execution_count": 22,
   "metadata": {
    "colab": {
     "base_uri": "https://localhost:8080/",
     "height": 330
    },
    "colab_type": "code",
    "id": "7ZEZIUppGhdi",
    "outputId": "2f1c1487-f697-47dd-decd-b9783123a243"
   },
   "outputs": [
    {
     "name": "stdout",
     "output_type": "stream",
     "text": [
      "Model: \"sequential_1\"\n",
      "_________________________________________________________________\n",
      "Layer (type)                 Output Shape              Param #   \n",
      "=================================================================\n",
      "embedding_1 (Embedding)      (None, 120, 16)           16000     \n",
      "_________________________________________________________________\n",
      "conv1d (Conv1D)              (None, 116, 128)          10368     \n",
      "_________________________________________________________________\n",
      "global_max_pooling1d (Global (None, 128)               0         \n",
      "_________________________________________________________________\n",
      "dense_2 (Dense)              (None, 24)                3096      \n",
      "_________________________________________________________________\n",
      "dense_3 (Dense)              (None, 1)                 25        \n",
      "=================================================================\n",
      "Total params: 29,489\n",
      "Trainable params: 29,489\n",
      "Non-trainable params: 0\n",
      "_________________________________________________________________\n"
     ]
    }
   ],
   "source": [
    "model = tf.keras.Sequential([\n",
    "    tf.keras.layers.Embedding(vocab_size, embedding_dim, input_length=max_length),\n",
    "    tf.keras.layers.Conv1D(128, 5, activation='relu'),\n",
    "    tf.keras.layers.GlobalMaxPooling1D(),\n",
    "    tf.keras.layers.Dense(24, activation='relu'),\n",
    "    tf.keras.layers.Dense(1, activation='sigmoid')\n",
    "])\n",
    "model.compile(loss='binary_crossentropy',optimizer='adam',metrics=['accuracy'])\n",
    "model.summary()"
   ]
  },
  {
   "cell_type": "code",
   "execution_count": 23,
   "metadata": {
    "colab": {
     "base_uri": "https://localhost:8080/",
     "height": 1000
    },
    "colab_type": "code",
    "id": "2HmBM7EtrDfq",
    "outputId": "d767ded5-5915-4cd6-d20a-faaa40b43a66"
   },
   "outputs": [
    {
     "name": "stdout",
     "output_type": "stream",
     "text": [
      "Epoch 1/50\n",
      "625/625 [==============================] - 4s 6ms/step - loss: 0.4702 - accuracy: 0.7624 - val_loss: 0.4068 - val_accuracy: 0.8152\n",
      "Epoch 2/50\n",
      "625/625 [==============================] - 4s 6ms/step - loss: 0.3564 - accuracy: 0.8382 - val_loss: 0.3940 - val_accuracy: 0.8205\n",
      "Epoch 3/50\n",
      "625/625 [==============================] - 4s 6ms/step - loss: 0.3187 - accuracy: 0.8592 - val_loss: 0.3964 - val_accuracy: 0.8226\n",
      "Epoch 4/50\n",
      "625/625 [==============================] - 4s 6ms/step - loss: 0.2829 - accuracy: 0.8779 - val_loss: 0.4080 - val_accuracy: 0.8199\n",
      "Epoch 5/50\n",
      "625/625 [==============================] - 4s 6ms/step - loss: 0.2482 - accuracy: 0.8947 - val_loss: 0.4300 - val_accuracy: 0.8188\n",
      "Epoch 6/50\n",
      "625/625 [==============================] - 4s 6ms/step - loss: 0.2123 - accuracy: 0.9127 - val_loss: 0.4710 - val_accuracy: 0.8150\n",
      "Epoch 7/50\n",
      "625/625 [==============================] - 4s 6ms/step - loss: 0.1784 - accuracy: 0.9295 - val_loss: 0.5227 - val_accuracy: 0.8109\n",
      "Epoch 8/50\n",
      "625/625 [==============================] - 3s 6ms/step - loss: 0.1458 - accuracy: 0.9451 - val_loss: 0.6036 - val_accuracy: 0.8067\n",
      "Epoch 9/50\n",
      "625/625 [==============================] - 4s 6ms/step - loss: 0.1190 - accuracy: 0.9560 - val_loss: 0.6809 - val_accuracy: 0.8027\n",
      "Epoch 10/50\n",
      "625/625 [==============================] - 4s 6ms/step - loss: 0.0968 - accuracy: 0.9661 - val_loss: 0.7275 - val_accuracy: 0.7961\n",
      "Epoch 11/50\n",
      "625/625 [==============================] - 4s 6ms/step - loss: 0.0777 - accuracy: 0.9743 - val_loss: 0.8423 - val_accuracy: 0.7939\n",
      "Epoch 12/50\n",
      "625/625 [==============================] - 4s 6ms/step - loss: 0.0683 - accuracy: 0.9762 - val_loss: 0.8992 - val_accuracy: 0.7877\n",
      "Epoch 13/50\n",
      "625/625 [==============================] - 3s 6ms/step - loss: 0.0574 - accuracy: 0.9801 - val_loss: 1.0017 - val_accuracy: 0.7894\n",
      "Epoch 14/50\n",
      "625/625 [==============================] - 4s 6ms/step - loss: 0.0490 - accuracy: 0.9832 - val_loss: 1.0465 - val_accuracy: 0.7879\n",
      "Epoch 15/50\n",
      "625/625 [==============================] - 4s 6ms/step - loss: 0.0451 - accuracy: 0.9850 - val_loss: 1.1795 - val_accuracy: 0.7864\n",
      "Epoch 16/50\n",
      "625/625 [==============================] - 4s 6ms/step - loss: 0.0460 - accuracy: 0.9829 - val_loss: 1.2076 - val_accuracy: 0.7903\n",
      "Epoch 17/50\n",
      "625/625 [==============================] - 4s 6ms/step - loss: 0.0401 - accuracy: 0.9852 - val_loss: 1.2948 - val_accuracy: 0.7922\n",
      "Epoch 18/50\n",
      "625/625 [==============================] - 4s 6ms/step - loss: 0.0356 - accuracy: 0.9862 - val_loss: 1.3548 - val_accuracy: 0.7885\n",
      "Epoch 19/50\n",
      "625/625 [==============================] - 4s 6ms/step - loss: 0.0357 - accuracy: 0.9862 - val_loss: 1.3975 - val_accuracy: 0.7901\n",
      "Epoch 20/50\n",
      "625/625 [==============================] - 4s 6ms/step - loss: 0.0309 - accuracy: 0.9883 - val_loss: 1.4719 - val_accuracy: 0.7860\n",
      "Epoch 21/50\n",
      "625/625 [==============================] - 4s 6ms/step - loss: 0.0328 - accuracy: 0.9875 - val_loss: 1.4478 - val_accuracy: 0.7824\n",
      "Epoch 22/50\n",
      "625/625 [==============================] - 4s 6ms/step - loss: 0.0300 - accuracy: 0.9885 - val_loss: 1.5990 - val_accuracy: 0.7866\n",
      "Epoch 23/50\n",
      "625/625 [==============================] - 4s 6ms/step - loss: 0.0300 - accuracy: 0.9879 - val_loss: 1.6236 - val_accuracy: 0.7834\n",
      "Epoch 24/50\n",
      "625/625 [==============================] - 4s 6ms/step - loss: 0.0326 - accuracy: 0.9875 - val_loss: 1.5921 - val_accuracy: 0.7824\n",
      "Epoch 25/50\n",
      "625/625 [==============================] - 4s 6ms/step - loss: 0.0312 - accuracy: 0.9876 - val_loss: 1.6772 - val_accuracy: 0.7821\n",
      "Epoch 26/50\n",
      "625/625 [==============================] - 4s 6ms/step - loss: 0.0303 - accuracy: 0.9879 - val_loss: 1.7423 - val_accuracy: 0.7858\n",
      "Epoch 27/50\n",
      "625/625 [==============================] - 4s 6ms/step - loss: 0.0226 - accuracy: 0.9906 - val_loss: 1.7755 - val_accuracy: 0.7834\n",
      "Epoch 28/50\n",
      "625/625 [==============================] - 4s 6ms/step - loss: 0.0212 - accuracy: 0.9906 - val_loss: 1.8794 - val_accuracy: 0.7787\n",
      "Epoch 29/50\n",
      "625/625 [==============================] - 4s 6ms/step - loss: 0.0261 - accuracy: 0.9888 - val_loss: 1.7617 - val_accuracy: 0.7828\n",
      "Epoch 30/50\n",
      "625/625 [==============================] - 4s 6ms/step - loss: 0.0307 - accuracy: 0.9875 - val_loss: 1.8363 - val_accuracy: 0.7830\n",
      "Epoch 31/50\n",
      "625/625 [==============================] - 4s 6ms/step - loss: 0.0296 - accuracy: 0.9872 - val_loss: 1.9120 - val_accuracy: 0.7851\n",
      "Epoch 32/50\n",
      "625/625 [==============================] - 4s 6ms/step - loss: 0.0239 - accuracy: 0.9901 - val_loss: 1.9633 - val_accuracy: 0.7834\n",
      "Epoch 33/50\n",
      "625/625 [==============================] - 3s 6ms/step - loss: 0.0232 - accuracy: 0.9907 - val_loss: 2.0527 - val_accuracy: 0.7882\n",
      "Epoch 34/50\n",
      "625/625 [==============================] - 4s 6ms/step - loss: 0.0238 - accuracy: 0.9900 - val_loss: 2.0177 - val_accuracy: 0.7842\n",
      "Epoch 35/50\n",
      "625/625 [==============================] - 4s 6ms/step - loss: 0.0222 - accuracy: 0.9898 - val_loss: 2.0630 - val_accuracy: 0.7812\n",
      "Epoch 36/50\n",
      "625/625 [==============================] - 4s 6ms/step - loss: 0.0246 - accuracy: 0.9891 - val_loss: 2.0791 - val_accuracy: 0.7800\n",
      "Epoch 37/50\n",
      "625/625 [==============================] - 4s 6ms/step - loss: 0.0178 - accuracy: 0.9924 - val_loss: 2.1709 - val_accuracy: 0.7813\n",
      "Epoch 38/50\n",
      "625/625 [==============================] - 4s 6ms/step - loss: 0.0191 - accuracy: 0.9915 - val_loss: 2.2357 - val_accuracy: 0.7869\n",
      "Epoch 39/50\n",
      "625/625 [==============================] - 4s 6ms/step - loss: 0.0216 - accuracy: 0.9901 - val_loss: 2.2389 - val_accuracy: 0.7782\n",
      "Epoch 40/50\n",
      "625/625 [==============================] - 4s 6ms/step - loss: 0.0195 - accuracy: 0.9906 - val_loss: 2.2052 - val_accuracy: 0.7861\n",
      "Epoch 41/50\n",
      "625/625 [==============================] - 4s 6ms/step - loss: 0.0244 - accuracy: 0.9894 - val_loss: 2.1126 - val_accuracy: 0.7879\n",
      "Epoch 42/50\n",
      "625/625 [==============================] - 4s 6ms/step - loss: 0.0222 - accuracy: 0.9903 - val_loss: 2.2271 - val_accuracy: 0.7795\n",
      "Epoch 43/50\n",
      "625/625 [==============================] - 4s 6ms/step - loss: 0.0199 - accuracy: 0.9916 - val_loss: 2.2738 - val_accuracy: 0.7748\n",
      "Epoch 44/50\n",
      "625/625 [==============================] - 4s 6ms/step - loss: 0.0218 - accuracy: 0.9905 - val_loss: 2.4219 - val_accuracy: 0.7743\n",
      "Epoch 45/50\n",
      "625/625 [==============================] - 4s 6ms/step - loss: 0.0179 - accuracy: 0.9923 - val_loss: 2.4013 - val_accuracy: 0.7855\n",
      "Epoch 46/50\n",
      "625/625 [==============================] - 4s 6ms/step - loss: 0.0212 - accuracy: 0.9909 - val_loss: 2.2872 - val_accuracy: 0.7854\n",
      "Epoch 47/50\n",
      "625/625 [==============================] - 4s 6ms/step - loss: 0.0241 - accuracy: 0.9905 - val_loss: 2.3354 - val_accuracy: 0.7782\n",
      "Epoch 48/50\n",
      "625/625 [==============================] - 4s 6ms/step - loss: 0.0207 - accuracy: 0.9910 - val_loss: 2.4517 - val_accuracy: 0.7798\n",
      "Epoch 49/50\n",
      "625/625 [==============================] - 4s 6ms/step - loss: 0.0183 - accuracy: 0.9918 - val_loss: 2.4792 - val_accuracy: 0.7880\n",
      "Epoch 50/50\n",
      "625/625 [==============================] - 4s 6ms/step - loss: 0.0172 - accuracy: 0.9916 - val_loss: 2.4861 - val_accuracy: 0.7877\n"
     ]
    }
   ],
   "source": [
    "num_epochs = 50\n",
    "\n",
    "training_padded = np.array(training_padded)\n",
    "training_labels = np.array(training_labels)\n",
    "testing_padded = np.array(testing_padded)\n",
    "testing_labels = np.array(testing_labels)\n",
    "\n",
    "history = model.fit(training_padded, training_labels, epochs=num_epochs, validation_data=(testing_padded, testing_labels), verbose=1)\n"
   ]
  },
  {
   "cell_type": "code",
   "execution_count": 24,
   "metadata": {
    "colab": {
     "base_uri": "https://localhost:8080/",
     "height": 542
    },
    "colab_type": "code",
    "id": "jJThgL68rHQk",
    "outputId": "fc7965f6-688b-4465-f12d-7ab6a0d7b0ec"
   },
   "outputs": [
    {
     "data": {
      "image/png": "[encoded data removed]",
      "text/plain": [
       "<Figure size 432x288 with 1 Axes>"
      ]
     },
     "metadata": {
      "needs_background": "light",
      "tags": []
     },
     "output_type": "display_data"
    },
    {
     "data": {
      "image/png": "[encoded data removed]",
      "text/plain": [
       "<Figure size 432x288 with 1 Axes>"
      ]
     },
     "metadata": {
      "needs_background": "light",
      "tags": []
     },
     "output_type": "display_data"
    }
   ],
   "source": [
    "plot_graphs(history, 'accuracy')\n",
    "plot_graphs(history, 'loss')"
   ]
  }
 ],
 "metadata": {
  "accelerator": "GPU",
  "colab": {
   "collapsed_sections": [],
   "name": "Course 3 - Week 3 - Lesson 2.ipynb",
   "provenance": [],
   "toc_visible": true
  },
  "kernelspec": {
   "display_name": "Python 3",
   "language": "python",
   "name": "python3"
  },
  "language_info": {
   "codemirror_mode": {
    "name": "ipython",
    "version": 3
   },
   "file_extension": ".py",
   "mimetype": "text/x-python",
   "name": "python",
   "nbconvert_exporter": "python",
   "pygments_lexer": "ipython3",
   "version": "3.6.9"
  }
 },
 "nbformat": 4,
 "nbformat_minor": 1
}
